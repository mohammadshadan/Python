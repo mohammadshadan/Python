{
 "cells": [
  {
   "cell_type": "markdown",
   "metadata": {
    "nbpresent": {
     "id": "b1d40bec-39cc-4f67-bb26-9dd74a0a4f58"
    }
   },
   "source": [
    "## 1. Preparing data"
   ]
  },
  {
   "cell_type": "markdown",
   "metadata": {
    "nbpresent": {
     "id": "b65e16e0-e04a-4d0e-a3bf-891790816f08"
    }
   },
   "source": [
    "### Reading DataFrames from multiple files\n",
    "\n",
    "When data is spread among several files, you usually invoke pandas' read_csv() (or a similar data import function) multiple times to load the data into several DataFrames.\n",
    "\n",
    "The data files for this example have been derived from a list of Olympic medals awarded between 1896 & 2008 compiled by the Guardian.\n",
    "\n",
    "The column labels of each DataFrame are NOC, Country, & Total where NOC is a three-letter code for the name of the country and Total is the number of medals of that type won (bronze, silver, or gold).\n",
    "\n",
    "Instructions\n",
    "- Import pandas as pd.\n",
    "    - Read the file 'Bronze.csv' into a DataFrame called bronze.\n",
    "    - Read the file 'Silver.csv' into a DataFrame called silver.\n",
    "    - Read the file 'Gold.csv' into a DataFrame called gold.\n",
    "- Print the first 5 rows of the DataFrame gold. This has been done for you, so hit 'Submit Answer' to see the results."
   ]
  },
  {
   "cell_type": "code",
   "execution_count": null,
   "metadata": {
    "collapsed": true,
    "nbpresent": {
     "id": "f9ec90db-2ea4-4e21-894a-881a002988aa"
    }
   },
   "outputs": [],
   "source": [
    "# Import pandas\n",
    "import pandas as pd\n",
    "\n",
    "# Read 'Bronze.csv' into a DataFrame: bronze\n",
    "bronze = pd.read_csv('Bronze.csv')\n",
    "\n",
    "# Read 'Silver.csv' into a DataFrame: silver\n",
    "silver = pd.read_csv('Silver.csv')\n",
    "\n",
    "# Read 'Gold.csv' into a DataFrame: gold\n",
    "gold = pd.read_csv('Gold.csv')\n",
    "\n",
    "# Print the first five rows of gold\n",
    "print(gold.head())"
   ]
  },
  {
   "cell_type": "markdown",
   "metadata": {
    "nbpresent": {
     "id": "67330b41-dbfa-4d53-9e98-7bf35c9c7af1"
    }
   },
   "source": [
    "### Reading DataFrames from multiple files in a loop\n",
    "\n",
    "As you saw in the video, loading data from multiple files into DataFrames is more efficient in a loop or a list comprehension.\n",
    "\n",
    "Notice that this approach is not restricted to working with CSV files. That is, even if your data comes in other formats, as long as pandas has a suitable data import function, you can apply a loop or comprehension to generate a list of DataFrames imported from the source files.\n",
    "\n",
    "Here, you'll continue working with The Guardian's Olympic medal dataset.\n",
    "\n",
    "Instructions\n",
    "- Create a list of file names called filenames with three strings 'Gold.csv', 'Silver.csv', & 'Bronze.csv'. This has been done for you.\n",
    "- Use a for loop to create another list called dataframes containing the three DataFrames loaded from filenames:\n",
    "    - Iterate over filenames.\n",
    "    - Read each CSV file in filenames into a DataFrame and append it to dataframes by using pd.read_csv() inside a call to .append().\n",
    "- Print the first 5 rows of the first DataFrame of the list dataframes. This has been done for you, so hit 'Submit Answer' to see the results."
   ]
  },
  {
   "cell_type": "code",
   "execution_count": null,
   "metadata": {
    "collapsed": true,
    "nbpresent": {
     "id": "d2b45c5a-ec64-456a-9ba7-f748b62d8b69"
    }
   },
   "outputs": [],
   "source": [
    "# Import pandas\n",
    "import pandas as pd\n",
    "\n",
    "# Create the list of file names: filenames\n",
    "filenames = ['Gold.csv', 'Silver.csv', 'Bronze.csv']\n",
    "\n",
    "# Create the list of three DataFrames: dataframes\n",
    "dataframes = []\n",
    "for filename in filenames:\n",
    "    dataframes.append(pd.read_csv(filename))\n",
    "\n",
    "# Print top 5 rows of 1st DataFrame in dataframes\n",
    "print(dataframes[0].head())"
   ]
  },
  {
   "cell_type": "markdown",
   "metadata": {
    "nbpresent": {
     "id": "2eba0037-c2a2-4d61-a813-bb4147b22e4a"
    }
   },
   "source": [
    "### Combining DataFrames from multiple data files\n",
    "\n",
    "In this exercise, you'll combine the three DataFrames from earlier exercises - gold, silver, & bronze - into a single DataFrame called medals. The approach you'll use here is clumsy. Later on in the course, you'll see various powerful methods that are frequently used in practice for concatenating or merging DataFrames.\n",
    "\n",
    "Remember, the column labels of each DataFrame are NOC, Country, and Total, where NOC is a three-letter code for the name of the country and Total is the number of medals of that type won.\n",
    "\n",
    "Instructions\n",
    "- Construct a copy of the DataFrame gold called medals using the .copy() method.\n",
    "- Create a list called new_labels with entries 'NOC', 'Country', & 'Gold'. This is the same as the column labels from gold with the column label 'Total' replaced by 'Gold'.\n",
    "- Rename the columns of medals by assigning new_labels to medals.columns.\n",
    "- Create new columns 'Silver' and 'Bronze' in medals using silver['Total'] & bronze['Total'].\n",
    "- Print the top 5 rows of the final DataFrame medals. This has been done for you, so hit 'Submit Answer' to see the result!"
   ]
  },
  {
   "cell_type": "code",
   "execution_count": null,
   "metadata": {
    "collapsed": true,
    "nbpresent": {
     "id": "a1736076-deb8-405f-9f73-e60ba705c707"
    }
   },
   "outputs": [],
   "source": [
    "# Import pandas\n",
    "import pandas as pd\n",
    "\n",
    "# Make a copy of gold: medals\n",
    "medals = gold.copy()\n",
    "\n",
    "# Create list of new column labels: new_labels\n",
    "new_labels = ['NOC', 'Country', 'Gold']\n",
    "\n",
    "# Rename the columns of medals using new_labels\n",
    "medals.columns = new_labels\n",
    "\n",
    "# Add columns 'Silver' & 'Bronze' to medals\n",
    "medals['Silver'] = silver['Total']\n",
    "medals['Bronze'] = bronze['Total']\n",
    "\n",
    "# Print the head of medals\n",
    "print(medals.head())"
   ]
  },
  {
   "cell_type": "markdown",
   "metadata": {
    "nbpresent": {
     "id": "0b8f26b7-b923-4f49-8c3b-92b66f10ba2f"
    }
   },
   "source": [
    "## Reindexing DataFrames"
   ]
  },
  {
   "cell_type": "markdown",
   "metadata": {
    "nbpresent": {
     "id": "a535feff-c451-4b1b-a0b3-2e35d8dfaf87"
    }
   },
   "source": [
    "### Sorting DataFrame with the Index & columns\n",
    "\n",
    "It is often useful to rearrange the sequence of the rows of a DataFrame by sorting. You don't have to implement these yourself; the principal methods for doing this are .sort_index() and .sort_values().\n",
    "\n",
    "In this exercise, you'll use these methods with a DataFrame of temperature values indexed by month names. You'll sort the rows alphabetically using the Index and numerically using a column. Notice, for this data, the original ordering is probably most useful and intuitive: the purpose here is for you to understand what the sorting methods do.\n",
    "\n",
    "Instructions\n",
    "- Read 'monthly_max_temp.csv' into a DataFrame called weather1 with 'Month' as the index.\n",
    "- Sort the index of weather1 in alphabetical order using the .sort_index() method and store the result in weather2.\n",
    "- Sort the index of weather1 in reverse alphabetical order by specifying the additional keyword argument ascending=False inside .sort_index().\n",
    "- Use the .sort_values() method to sort the index of weather1 in increasing numerical order according to the values of the column 'Max TemperatureF'."
   ]
  },
  {
   "cell_type": "code",
   "execution_count": null,
   "metadata": {
    "collapsed": true,
    "nbpresent": {
     "id": "1741209f-cf4f-498f-a905-b41d07800c69"
    }
   },
   "outputs": [],
   "source": [
    "# Import pandas\n",
    "import pandas as pd\n",
    "\n",
    "# Read 'monthly_max_temp.csv' into a DataFrame: weather1\n",
    "weather1 = pd.read_csv('monthly_max_temp.csv', index_col='Month')\n",
    "\n",
    "# Print the head of weather1\n",
    "print(weather1.head())\n",
    "\n",
    "# Sort the index of weather1 in alphabetical order: weather2\n",
    "weather2 = weather1.sort_index()\n",
    "\n",
    "# Print the head of weather2\n",
    "print(weather2.head())\n",
    "\n",
    "# Sort the index of weather1 in reverse alphabetical order: weather3\n",
    "weather3 = weather1.sort_index(ascending=False)\n",
    "\n",
    "# Print the head of weather3\n",
    "print(weather3.head())\n",
    "\n",
    "# Sort the index of weather1 numerically using the values of 'Max TemperatureF': weather4\n",
    "weather4 = weather1.sort_values('Max TemperatureF')\n",
    "\n",
    "# Print the head of weather4\n",
    "print(weather4.head())"
   ]
  },
  {
   "cell_type": "markdown",
   "metadata": {
    "nbpresent": {
     "id": "94e5e6de-92c8-4c85-aec5-62167acd8e7d"
    }
   },
   "source": [
    "### Reindexing DataFrame from a list\n",
    "\n",
    "Sorting methods are not the only way to change DataFrame Indexes. There is also the .reindex() method.\n",
    "\n",
    "In this exercise, you'll reindex a DataFrame of quarterly-sampled mean temperature values to contain monthly samples (this is an example of upsampling or increasing the rate of samples, which you may recall from the pandas Foundations course).\n",
    "\n",
    "The original data has the first month's abbreviation of the quarter (three-month interval) on the Index, namely Apr, Jan, Jul, and Sep. This data has been loaded into a DataFrame called weather1 and has been printed in its entirety in the IPython Shell. Notice it has only four rows (corresponding to the first month of each quarter) and that the rows are not sorted chronologically.\n",
    "\n",
    "You'll initially use a list of all twelve month abbreviations and subsequently apply the .ffill() method to forward-fill the null entries when upsampling. This list of month abbreviations has been pre-loaded as year.\n",
    "\n",
    "Instructions\n",
    "- Reorder the rows of weather1 using the .reindex() method with the list year as the argument, which contains the abbreviations for each month.\n",
    "- Reorder the rows of weather1 just as you did above, this time chaining the .ffill() method to replace the null values with the last preceding non-null value."
   ]
  },
  {
   "cell_type": "code",
   "execution_count": null,
   "metadata": {
    "collapsed": true,
    "nbpresent": {
     "id": "dd8183e5-6dc2-4eb2-ae59-ff2d2773e596"
    }
   },
   "outputs": [],
   "source": [
    "# Import pandas\n",
    "import pandas as pd\n",
    "\n",
    "# Reindex weather1 using the list year: weather2\n",
    "weather2 = weather1.reindex(year)\n",
    "\n",
    "# Print weather2\n",
    "print(weather2)\n",
    "\n",
    "# Reindex weather1 using the list year with forward-fill: weather3\n",
    "weather3 = weather1.reindex(year).ffill()\n",
    "\n",
    "# Print weather3\n",
    "print(weather3)"
   ]
  },
  {
   "cell_type": "markdown",
   "metadata": {
    "nbpresent": {
     "id": "314d6bee-9a82-4008-a034-9f037c698087"
    }
   },
   "source": [
    "Notice that values corresponding to months missing from weather1 are filled with NaN values in weather2. This does not happen in weather3, since you used forward-fill."
   ]
  },
  {
   "cell_type": "markdown",
   "metadata": {
    "nbpresent": {
     "id": "c1ef0891-6d63-4cac-aca7-6ec832d288fc"
    }
   },
   "source": [
    "### Reindexing using another DataFrame Index\n",
    "\n",
    "Another common technique is to reindex a DataFrame using the Index of another DataFrame. The DataFrame .reindex() method can accept the Index of a DataFrame or Series as input. You can access the Index of a DataFrame with its .index attribute.\n",
    "\n",
    "The Baby Names Dataset from data.gov summarizes counts of names (with genders) from births registered in the US since 1881. In this exercise, you will start with two baby-names DataFrames names_1981 and names_1881 loaded for you.\n",
    "\n",
    "The DataFrames names_1981 and names_1881 both have a MultiIndex with levels name and gender giving unique labels to counts in each row. If you're interested in seeing how the MultiIndexes were set up, names_1981 and names_1881 were read in using the following commands:    \n",
    "\n",
    "names_1981 = pd.read_csv('names1981.csv', header=None, names=['name','gender','count'], index_col=(0,1))    \n",
    "names_1881 = pd.read_csv('names1881.csv', header=None, names=['name','gender','count'], index_col=(0,1)) \n",
    "\n",
    "As you can see by looking at their shapes, which have been printed in the IPython Shell, the DataFrame corresponding to 1981 births is much larger, reflecting the greater diversity of names in 1981 as compared to 1881.   \n",
    "\n",
    "Your job here is to use the DataFrame .reindex() and .dropna() methods to make a DataFrame common_names counting names from 1881 that were still popular in 1981.\n",
    "\n",
    "Instructions\n",
    "- Create a new DataFrame common_names by reindexing names_1981 using the Index of the DataFrame names_1881 of older names.\n",
    "- Print the shape of the new common_names DataFrame. This has been done for you. It should be the same as that of names_1881.\n",
    "- Drop the rows of common_names that have null counts using the .dropna() method. These rows correspond to names that fell out of fashion between 1881 & 1981.\n",
    "- Print the shape of the reassigned common_names DataFrame. This has been done for you, so hit 'Submit Answer' to see the result!"
   ]
  },
  {
   "cell_type": "code",
   "execution_count": null,
   "metadata": {
    "collapsed": true,
    "nbpresent": {
     "id": "37d5dea3-f393-4796-9b34-2ecb91b0bd83"
    }
   },
   "outputs": [],
   "source": [
    "# Import pandas\n",
    "import pandas as pd\n",
    "\n",
    "# Reindex names_1981 with index of names_1881: common_names\n",
    "common_names = names_1981.reindex(names_1881.index)\n",
    "\n",
    "# Print shape of common_names\n",
    "print(common_names.shape)\n",
    "\n",
    "# Drop rows with null counts: common_names\n",
    "common_names = common_names.dropna()\n",
    "\n",
    "# Print shape of new common_names\n",
    "print(common_names.shape)"
   ]
  },
  {
   "cell_type": "markdown",
   "metadata": {
    "nbpresent": {
     "id": "6d65f322-5d1e-40a6-9071-f48f43a7f0a0"
    }
   },
   "source": [
    "It looks like 348 names fell out of fashion between 1881 and 1981!"
   ]
  },
  {
   "cell_type": "markdown",
   "metadata": {
    "nbpresent": {
     "id": "852529e2-de8b-4530-93b2-3c71c24172e2"
    }
   },
   "source": [
    "## Arithmetic with Series & DataFrames"
   ]
  },
  {
   "cell_type": "markdown",
   "metadata": {
    "nbpresent": {
     "id": "73656e1b-7fda-4d99-9ea0-dee8d808a908"
    }
   },
   "source": [
    "Adding unaligned DataFrames\n",
    "50xp\n",
    "The DataFrames january and february, which have been printed in the IPython Shell, represent the sales a company made in the corresponding months.\n",
    "\n",
    "The Indexes in both DataFrames are called Company, identifying which company bought that quantity of units. The column Units is the number of units sold.\n",
    "\n",
    "If you were to add these two DataFrames by executing the command total = january + february, how many rows would the resulting DataFrame have? Try this in the IPython Shell and find out for yourself.\n",
    "\n",
    "Possible Answers\n",
    "- 3 rows.\n",
    "- 4 rows.\n",
    "- 5 rows.\n",
    "- 6 rows.(Correct)"
   ]
  },
  {
   "cell_type": "markdown",
   "metadata": {
    "nbpresent": {
     "id": "466c7253-fdce-4291-b56d-78ba8c999572"
    }
   },
   "source": [
    "### Broadcasting in arithmetic formulas\n",
    "\n",
    "In this exercise, you'll work with weather data pulled from [wunderground.com](https://www.wunderground.com/). The DataFrame weather has been pre-loaded along with pandas as pd. It has 365 rows (observed each day of the year 2013 in Pittsburgh, PA) and 22 columns reflecting different weather measurements each day.\n",
    "\n",
    "You'll subset a collection of columns related to temperature measurements in degrees Fahrenheit, convert them to degrees Celsius, and relabel the columns of the new DataFrame to reflect the change of units.\n",
    "\n",
    "Remember, ordinary arithmetic operators (like +, -, *, and /) broadcast scalar values to conforming DataFrames when combining scalars & DataFrames in arithmetic expressions. Broadcasting also works with pandas Series and NumPy arrays.\n",
    "\n",
    "Instructions\n",
    "- Create a new DataFrame temps_f by extracting the columns 'Min TemperatureF', 'Mean TemperatureF', & 'Max TemperatureF' from weather as a new DataFrame temps_f. To do this, pass the relevant columns as a list to weather[].\n",
    "- Create a new DataFrame temps_c from temps_f using the formula (temps_f - 32) * 5/9.\n",
    "- Rename the columns of temps_c to replace 'F' with 'C' using the .str.replace('F', 'C') method on temps_c.columns.\n",
    "- Print the first 5 rows of DataFrame temps_c. This has been done for you, so hit 'Submit Answer' to see the result!"
   ]
  },
  {
   "cell_type": "code",
   "execution_count": null,
   "metadata": {
    "collapsed": true,
    "nbpresent": {
     "id": "aab54162-9627-4678-a916-c5b123a73b0c"
    }
   },
   "outputs": [],
   "source": [
    "# Extract selected columns from weather as new DataFrame: temps_f\n",
    "temps_f = weather[['Min TemperatureF', 'Mean TemperatureF','Max TemperatureF']]\n",
    "\n",
    "# Convert temps_f to celsius: temps_c\n",
    "temps_c = (temps_f - 32) * 5/9\n",
    "\n",
    "# Rename 'F' in column names with 'C': temps_c.columns\n",
    "temps_c.columns = temps_c.columns.str.replace('F', 'C')\n",
    "\n",
    "# Print first 5 rows of temps_c\n",
    "print(temps_c.head())"
   ]
  },
  {
   "cell_type": "markdown",
   "metadata": {
    "nbpresent": {
     "id": "a3111e49-5b4d-419e-a6e5-3159bcdfb822"
    }
   },
   "source": [
    "### Computing percentage growth of GDP\n",
    "\n",
    "Your job in this exercise is to compute the yearly percent-change of US GDP ([Gross Domestic Product](https://en.wikipedia.org/wiki/Gross_domestic_product)) since 2008.\n",
    "\n",
    "The data has been obtained from the [Federal Reserve Bank of St. Louis](https://fred.stlouisfed.org/series/GDP/downloaddata) and is available in the file GDP.csv, which contains quarterly data; you will resample it to annual sampling and then compute the annual growth of GDP. For a refresher on resampling, check out the relevant material from pandas Foundations.\n",
    "\n",
    "Instructions\n",
    "- Read the file 'GDP.csv' into a DataFrame called gdp.\n",
    "    - Use parse_dates=True and index_col='DATE'.\n",
    "- Create a DataFrame post2008 by slicing gdp such that it comprises all rows from 2008 onward.\n",
    "- Print the last 8 rows of the slice post2008. This has been done for you. This data has quarterly frequency so the indices are separated by three-month intervals.\n",
    "- Create the DataFrame yearly by resampling the slice post2008 by year. Remember, you need to chain .resample() (using the alias 'A' for annual frequency) with some kind of aggregation; you will use the aggregation method .last() to select the last element when resampling.\n",
    "- Compute the percentage growth of the resampled DataFrame yearly with .pct_change() * 100."
   ]
  },
  {
   "cell_type": "code",
   "execution_count": null,
   "metadata": {
    "collapsed": true,
    "nbpresent": {
     "id": "52812b9b-4200-41ae-9335-4f35a7a97dfd"
    }
   },
   "outputs": [],
   "source": [
    "import pandas as pd\n",
    "\n",
    "# Read 'GDP.csv' into a DataFrame: gdp\n",
    "gdp = pd.read_csv('GDP.csv', parse_dates=True, index_col='DATE')\n",
    "\n",
    "# Slice all the gdp data from 2008 onward: post2008\n",
    "post2008 = gdp.loc['2008':,]\n",
    "\n",
    "# Print the last 8 rows of post2008\n",
    "print(post2008.tail(8))\n",
    "\n",
    "# Resample post2008 by year, keeping last(): yearly\n",
    "yearly = post2008.resample('A').last()\n",
    "\n",
    "# Print yearly\n",
    "print(yearly)\n",
    "\n",
    "# Compute percentage growth of yearly: yearly['growth']\n",
    "yearly['growth'] = yearly.pct_change() * 100\n",
    "\n",
    "# Print yearly again\n",
    "print(yearly)"
   ]
  },
  {
   "cell_type": "markdown",
   "metadata": {
    "nbpresent": {
     "id": "1d7e7487-8b63-458a-89be-d93616115141"
    }
   },
   "source": [
    "Note that the first column of the 'growth' column is NaN because there is no data for the year 2007."
   ]
  },
  {
   "cell_type": "markdown",
   "metadata": {
    "nbpresent": {
     "id": "b166eba1-6c91-4487-9eb5-851cddad7629"
    }
   },
   "source": [
    "### Converting currency of stocks\n",
    "\n",
    "In this exercise, stock prices in US Dollars for the S&P 500 in 2015 have been obtained from Yahoo Finance. The files sp500.csv for sp500 and exchange.csv for the exchange rates are both provided to you.\n",
    "\n",
    "Using the daily exchange rate to Pounds Sterling, your task is to convert both the Open and Close column prices.\n",
    "\n",
    "Instructions\n",
    "- Read the DataFrames sp500 & exchange from the files 'sp500.csv' & 'exchange.csv' respectively..\n",
    "    - Use parse_dates=True and index_col='Date'.\n",
    "- Extract the columns 'Open' & 'Close' from the DataFrame sp500 as a new DataFrame dollars and print the first 5 rows.\n",
    "- Construct a new DataFrame pounds by converting US dollars to British pounds. You'll use the .multiply() method of dollars with exchange['GBP/USD'] and axis='rows'\n",
    "- Print the first 5 rows of the new DataFrame pounds. This has been done for you, so hit 'Submit Answer' to see the results!.\n",
    "\n"
   ]
  },
  {
   "cell_type": "code",
   "execution_count": null,
   "metadata": {
    "collapsed": true,
    "nbpresent": {
     "id": "830aca5b-c1ec-4318-8765-e509919ec6ef"
    }
   },
   "outputs": [],
   "source": [
    "# Import pandas\n",
    "import pandas as pd\n",
    "\n",
    "# Read 'sp500.csv' into a DataFrame: sp500\n",
    "sp500 = pd.read_csv('sp500.csv',parse_dates=True,index_col='Date')\n",
    "\n",
    "# Read 'exchange.csv' into a DataFrame: exchange\n",
    "exchange = pd.read_csv('exchange.csv',parse_dates=True,index_col='Date')\n",
    "\n",
    "# Subset 'Open' & 'Close' columns from sp500: dollars\n",
    "dollars = sp500[['Open','Close']]\n",
    "\n",
    "# Print the head of dollars\n",
    "print(dollars.head())\n",
    "\n",
    "# Convert dollars to pounds: pounds\n",
    "pounds = dollars.multiply(exchange['GBP/USD'], axis='rows')\n",
    "\n",
    "# Print the head of pounds\n",
    "print(pounds.head())"
   ]
  },
  {
   "cell_type": "markdown",
   "metadata": {
    "nbpresent": {
     "id": "6c280d82-6779-423c-837e-2b345d81bd14"
    }
   },
   "source": [
    "# 2. Concatenating data"
   ]
  },
  {
   "cell_type": "markdown",
   "metadata": {
    "nbpresent": {
     "id": "54eecba7-02f2-4059-ba5a-31d46044a531"
    }
   },
   "source": [
    "### Appending & concatenating Series"
   ]
  },
  {
   "cell_type": "markdown",
   "metadata": {
    "nbpresent": {
     "id": "7151e2b9-a67e-4011-8abf-ac2e8710da6f"
    }
   },
   "source": [
    "### Appending Series with nonunique Indices\n",
    "\n",
    "The Series bronze and silver, which have been printed in the IPython Shell, represent the 5 countries that won the most bronze and silver Olympic medals respectively between 1896 & 2008. The Indexes of both Series are called Country and the values are the corresponding number of medals won.\n",
    "\n",
    "If you were to run the command combined = bronze.append(silver), how many rows would combined have? And how many rows would combined.loc['United States'] return? Find out for yourself by running these commands in the IPython Shell.\n",
    "\n",
    "Possible Answers\n",
    "- combined has 5 rows and combined.loc['United States'] is empty (0 rows).\n",
    "- combined has 10 rows and combined.loc['United States'] has 2 rows. (Correct)\n",
    "- combined has 6 rows and combined.loc['United States'] has 1 row.\n",
    "- combined has 5 rows and combined.loc['United States'] has 2 rows."
   ]
  },
  {
   "cell_type": "markdown",
   "metadata": {
    "nbpresent": {
     "id": "ff0ea831-e043-42a8-a397-39f68aac09e0"
    }
   },
   "source": [
    "The combined Series has 10 rows and combined.loc['United States'] has two rows, since the index value 'United States' occurs in both series bronze and silver."
   ]
  },
  {
   "cell_type": "markdown",
   "metadata": {
    "nbpresent": {
     "id": "4583f37f-7c68-4bf9-afbe-4eb483f67eda"
    }
   },
   "source": [
    "### Appending pandas Series\n",
    "\n",
    "In this exercise, you'll load sales data from the months January, February, and March into DataFrames. Then, you'll extract Series with the 'Units' column from each and append them together with method chaining using .append().\n",
    "\n",
    "To check that the stacking worked, you'll print slices from these Series, and finally, you'll add the result to figure out the total units sold in the first quarter.\n",
    "\n",
    "Instructions\n",
    "- Read the files 'sales-jan-2015.csv', 'sales-feb-2015.csv' and 'sales-mar-2015.csv' into the DataFrames jan, feb, and mar respectively.\n",
    "    - Use parse_dates=True and index_col='Date'.\n",
    "- Extract the 'Units' column of jan, feb, and mar to create the Series jan_units, feb_units, and mar_units respectively.\n",
    "- Construct the Series quarter1 by appending feb_units to jan_units and then appending mar_units to the result. Use chained calls to the .append() method to do this.\n",
    "- Verify that quarter1 has the individual Series stacked vertically. To do this:\n",
    "    - Print the slice containing rows from jan 27, 2015 to feb 2, 2015.\n",
    "    - Print the slice containing rows from feb 26, 2015 to mar 7, 2015.\n",
    "- Compute and print the total number of units sold from the Series quarter1. This has been done for you, so hit 'Submit Answer' to see the result!"
   ]
  },
  {
   "cell_type": "code",
   "execution_count": null,
   "metadata": {
    "collapsed": true,
    "nbpresent": {
     "id": "78f1b96b-9ce5-4684-b4e1-15346e3ec81b"
    }
   },
   "outputs": [],
   "source": [
    "# Import pandas\n",
    "import pandas as pd\n",
    "\n",
    "# Load 'sales-jan-2015.csv' into a DataFrame: jan\n",
    "jan = pd.read_csv('sales-jan-2015.csv',parse_dates=True,index_col='Date')\n",
    "\n",
    "# Load 'sales-feb-2015.csv' into a DataFrame: feb\n",
    "feb = pd.read_csv('sales-feb-2015.csv',parse_dates=True,index_col='Date')\n",
    "\n",
    "# Load 'sales-mar-2015.csv' into a DataFrame: mar\n",
    "mar = pd.read_csv('sales-mar-2015.csv',parse_dates=True,index_col='Date')\n",
    "\n",
    "# Extract the 'Units' column from jan: jan_units\n",
    "jan_units = jan['Units']\n",
    "\n",
    "# Extract the 'Units' column from feb: feb_units\n",
    "feb_units = feb['Units']\n",
    "\n",
    "# Extract the 'Units' column from mar: mar_units\n",
    "mar_units = mar['Units']\n",
    "\n",
    "# Append feb_units and then mar_units to jan_units: quarter1\n",
    "quarter1 = jan_units.append(feb_units).append(mar_units)\n",
    "\n",
    "# Print the first slice from quarter1\n",
    "print(quarter1.loc['jan 27, 2015':'feb 2, 2015'])\n",
    "\n",
    "# Print the second slice from quarter1\n",
    "print(quarter1.loc['feb 26, 2015':'mar 7, 2015'])\n",
    "\n",
    "# Compute & print total sales in quarter1\n",
    "print(quarter1.sum())"
   ]
  },
  {
   "cell_type": "markdown",
   "metadata": {
    "nbpresent": {
     "id": "fc94427b-3a09-4a11-a264-183d2524da6f"
    }
   },
   "source": [
    " appending pandas Series is very straightforward!"
   ]
  },
  {
   "cell_type": "markdown",
   "metadata": {
    "nbpresent": {
     "id": "de0e1417-46b9-49a3-9f7c-95ef95aaa2b1"
    }
   },
   "source": [
    "### Concatenating pandas Series along row axis\n",
    "\n",
    "Having learned how to append Series, you'll now learn how to achieve the same result by concatenating Series instead. You'll continue to work with the sales data you've seen previously. This time, the DataFrames jan, feb, and mar have been pre-loaded.\n",
    "\n",
    "Your job is to use pd.concat() with a list of Series to achieve the same result that you would get by chaining calls to .append().\n",
    "\n",
    "You may be wondering about the difference between pd.concat() and pandas' .append() method. One way to think of the difference is that .append() is a specific case of a concatenation, while pd.concat() gives you more flexibility, as you'll see in later exercises.\n",
    "\n",
    "Instructions\n",
    "- Create an empty list called units. This has been done for you.\n",
    "- Use a for loop to iterate over [jan, feb, mar]:\n",
    "    - In each iteration of the loop, append the 'Units' column of each DataFrame to units.\n",
    "- Concatenate the Series contained in the list units into a longer Series called quarter1 using pd.concat().\n",
    "    - Specify the keyword argument axis='rows' to stack the Series vertically.\n",
    "- Verify that quarter1 has the individual Series stacked vertically by printing slices. This has been done for you, so hit 'Submit Answer' to see the result!"
   ]
  },
  {
   "cell_type": "code",
   "execution_count": null,
   "metadata": {
    "collapsed": true,
    "nbpresent": {
     "id": "1760d211-fd69-45dd-9961-dd9685ef288d"
    }
   },
   "outputs": [],
   "source": [
    "# Initialize empty list: units\n",
    "units = []\n",
    "\n",
    "# Build the list of Series\n",
    "for month in [jan, feb, mar]:\n",
    "    units.append(month['Units'])\n",
    "\n",
    "# Concatenate the list: quarter1\n",
    "quarter1 = pd.concat(units, axis='rows')\n",
    "\n",
    "# Print slices from quarter1\n",
    "print(quarter1.loc['jan 27, 2015':'feb 2, 2015'])\n",
    "print(quarter1.loc['feb 26, 2015':'mar 7, 2015'])"
   ]
  },
  {
   "cell_type": "markdown",
   "metadata": {
    "nbpresent": {
     "id": "1e88900d-4039-4a4e-a1e8-92737ed082fd"
    }
   },
   "source": [
    "## Appending & concatenating DataFrames"
   ]
  },
  {
   "cell_type": "markdown",
   "metadata": {
    "nbpresent": {
     "id": "29aae2e0-55b8-4588-aeb1-7d906e067c2d"
    }
   },
   "source": [
    "### Appending DataFrames with ignore_index\n",
    "\n",
    "In this exercise, you'll use the Baby Names Dataset (from data.gov) again. This time, both DataFrames names_1981 and names_1881 are loaded without specifying an Index column (so the default Indexes for both are RangeIndexes).\n",
    "\n",
    "You'll use the DataFrame .append() method to make a DataFrame combined_names. To distinguish rows from the original two DataFrames, you'll add a 'year' column to each with the year (1881 or 1981 in this case). In addition, you'll specify ignore_index=True so that the index values are not used along the concatenation axis. The resulting axis will instead be labeled 0, 1, ..., n-1, which is useful if you are concatenating objects where the concatenation axis does not have meaningful indexing information.\n",
    "\n",
    "Instructions\n",
    "- Create a 'year' column in the DataFrames names_1881 and names_1981, with values of 1881 and 1981 respectively. Recall that assigning a scalar value to a DataFrame column broadcasts that value throughout.\n",
    "- Create a new DataFrame called combined_names by appending the rows of names_1981 underneath the rows of names_1881. Specify the keyword argument ignore_index=True to make a new RangeIndex of unique integers for each row.\n",
    "- Print the shapes of all three DataFrames. This has been done for you.\n",
    "- Extract all rows from combined_names that have the name 'Morgan'. To do this, use the .loc[] accessor with an appropriate filter. The relevant column of combined_names here is 'name'."
   ]
  },
  {
   "cell_type": "code",
   "execution_count": null,
   "metadata": {
    "collapsed": true,
    "nbpresent": {
     "id": "5555d03c-f603-41a1-8420-11aa94174438"
    }
   },
   "outputs": [],
   "source": [
    "# Add 'year' column to names_1881 and names_1981\n",
    "names_1881['year'] = 1881\n",
    "names_1981['year'] = 1981\n",
    "\n",
    "# Append names_1981 after names_1881 with ignore_index=True: combined_names\n",
    "combined_names = names_1881.append(names_1981, ignore_index=True)\n",
    "\n",
    "# Print shapes of names_1981, names_1881, and combined_names\n",
    "print(names_1981.shape)\n",
    "print(names_1881.shape)\n",
    "print(combined_names.shape)\n",
    "\n",
    "# Print all rows that contain the name 'Morgan'\n",
    "print(combined_names.loc[combined_names.name == 'Morgan'])"
   ]
  },
  {
   "cell_type": "markdown",
   "metadata": {
    "nbpresent": {
     "id": "fff1ea90-6f18-4ef8-b740-f780fa00e1b6"
    }
   },
   "source": [
    "### Concatenating pandas DataFrames along column axis\n",
    "\n",
    "The function pd.concat() can concatenate DataFrames horizontally as well as vertically (vertical is the default). To make the DataFrames stack horizontally, you have to specify the keyword argument axis=1 or axis='columns'.\n",
    "\n",
    "In this exercise, you'll use weather data with maximum and mean daily temperatures sampled at different rates (quarterly versus monthly). You'll concatenate the rows of both and see that, where rows are missing in the coarser DataFrame, null values are inserted in the concatenated DataFrame. This corresponds to an outer join (which you will explore in more detail in later exercises).\n",
    "\n",
    "The files 'quarterly_max_temp.csv' and 'monthly_mean_temp.csv' have been pre-loaded into the DataFrames weather_max and weather_mean respectively, and pandas has been imported as pd.\n",
    "\n",
    "Instructions\n",
    "- Create a new DataFrame called weather by concatenating the DataFrames weather_max and weather_mean horizontally.\n",
    "- Pass the DataFrames to pd.concat() as a list and specify the keyword argument axis=1 to stack them horizontally.\n",
    "- Print the new DataFrame weather."
   ]
  },
  {
   "cell_type": "code",
   "execution_count": null,
   "metadata": {
    "collapsed": true,
    "nbpresent": {
     "id": "0124333b-1822-4e49-b35f-7891e1a9016d"
    }
   },
   "outputs": [],
   "source": [
    "# Concatenate weather_max and weather_mean horizontally: weather\n",
    "weather = pd.concat([weather_max,weather_mean], axis=1)\n",
    "\n",
    "# Print weather\n",
    "print(weather)"
   ]
  },
  {
   "cell_type": "markdown",
   "metadata": {
    "nbpresent": {
     "id": "8aa6e254-64db-4eb6-8f73-c26f25528acb"
    }
   },
   "source": [
    "### Reading multiple files to build a DataFrame\n",
    "\n",
    "It is often convenient to build a large DataFrame by parsing many files as DataFrames and concatenating them all at once. You'll do this here with three files, but, in principle, this approach can be used to combine data from dozens or hundreds of files.\n",
    "\n",
    "Here, you'll work with DataFrames compiled from The Guardian's Olympic medal dataset.\n",
    "\n",
    "pandas has been imported as pd and two lists have been pre-loaded: An empty list called medals, and medal_types, which contains the strings 'bronze', 'silver', and 'gold'.\n",
    "\n",
    "Instructions\n",
    "- Iterate over medal_types in the for loop.\n",
    "- Inside the for loop:\n",
    "    - Create file_name using string interpolation with the loop variable medal. This has been done for you. The expression \"%s_top5.csv\" % medal evaluates as a string with the value of medal replacing %s in the format string.\n",
    "    - Create the list of column names called columns. This has been done for you.\n",
    "    - Read file_name into a DataFrame called medal_df. Specify the keyword arguments header=0, index_col='Country', and names=columns to get the correct row and column Indexes.\n",
    "    - Append medal_df to medals using the list .append() method.\n",
    "- Concatenate the list of DataFrames medals horizontally (using axis='columns') to create a single DataFrame called medals. Print it in its entirety."
   ]
  },
  {
   "cell_type": "code",
   "execution_count": null,
   "metadata": {
    "collapsed": true,
    "nbpresent": {
     "id": "1d624b7a-ce48-4bae-bea2-dd1b7af5e856"
    }
   },
   "outputs": [],
   "source": [
    "for medal in medal_types:\n",
    "\n",
    "    # Create the file name: file_name\n",
    "    file_name = \"%s_top5.csv\" % medal\n",
    "    \n",
    "    # Create list of column names: columns\n",
    "    columns = ['Country', medal]\n",
    "    \n",
    "    # Read file_name into a DataFrame: df\n",
    "    medal_df = pd.read_csv(file_name, header=0, index_col='Country', names=columns)\n",
    "\n",
    "    # Append medal_df to medals\n",
    "    medals.append(medal_df)\n",
    "\n",
    "# Concatenate medals horizontally: medals\n",
    "medals = pd.concat(medals, axis='columns')\n",
    "\n",
    "# Print medals\n",
    "print(medals)"
   ]
  },
  {
   "cell_type": "markdown",
   "metadata": {
    "nbpresent": {
     "id": "bbf5b8b3-6776-41a3-b21d-9b7b7be48799"
    }
   },
   "source": [
    "## Concatenation, keys, & MultiIndexes"
   ]
  },
  {
   "cell_type": "markdown",
   "metadata": {
    "nbpresent": {
     "id": "1935dd70-6ede-4b13-9863-14e838a09a64"
    }
   },
   "source": [
    "### Concatenating vertically to get MultiIndexed rows\n",
    "\n",
    "When stacking a sequence of DataFrames vertically, it is sometimes desirable to construct a MultiIndex to indicate the DataFrame from which each row originated. This can be done by specifying the keys parameter in the call to pd.concat(), which generates a hierarchical index with the labels from keys as the outermost index label. So you don't have to rename the columns of each DataFrame as you load it. Instead, only the Index column needs to be specified.\n",
    "\n",
    "Here, you'll continue working with DataFrames compiled from The Guardian's Olympic medal dataset. Once again, pandas has been imported as pd and two lists have been pre-loaded: An empty list called medals, and medal_types, which contains the strings 'bronze', 'silver', and 'gold'.\n",
    "\n",
    "Instructions\n",
    "- Within the for loop:\n",
    "    - Read file_name into a DataFrame called medal_df. Specify the index to be 'Country'.\n",
    "    - Append medal_df to medals.\n",
    "- Concatenate the list of DataFrames medals into a single DataFrame called medals. Be sure to use the keyword argument keys=['bronze', 'silver', 'gold'] to create a vertically stacked DataFrame with a MultiIndex.\n",
    "- Print the new DataFrame medals. This has been done for you, so hit 'Submit Answer' to see the result!"
   ]
  },
  {
   "cell_type": "code",
   "execution_count": null,
   "metadata": {
    "collapsed": true,
    "nbpresent": {
     "id": "ca5276c1-d096-4a7a-aa36-097642e6744a"
    }
   },
   "outputs": [],
   "source": [
    "for medal in medal_types:\n",
    "\n",
    "    file_name = \"%s_top5.csv\" % medal\n",
    "    \n",
    "    # Read file_name into a DataFrame: medal_df\n",
    "    medal_df = pd.read_csv(file_name, index_col='Country')\n",
    "    \n",
    "    # Append medal_df to medals\n",
    "    medals.append(medal_df)\n",
    "    \n",
    "# Concatenate medals: medals\n",
    "medals = pd.concat(medals, keys=['bronze', 'silver', 'gold'])\n",
    "\n",
    "# Print medals in entirety\n",
    "print(medals)"
   ]
  },
  {
   "cell_type": "markdown",
   "metadata": {
    "nbpresent": {
     "id": "88c3ef40-24f9-4d86-ac57-86bfd7e83f19"
    }
   },
   "source": [
    "### Slicing MultiIndexed DataFrames\n",
    "\n",
    "This exercise picks up where the last ended (again using The [Guardian's Olympic medal dataset](https://www.theguardian.com/sport/datablog/2012/jun/25/olympic-medal-winner-list-data)).\n",
    "\n",
    "You are provided with the MultiIndexed DataFrame as produced at the end of the preceding exercise. Your task is to sort the DataFrame and to use the pd.IndexSlice to extract specific slices. Check out this exercise from Manipulating DataFrames with pandas to refresh your memory on how to deal with MultiIndexed DataFrames.\n",
    "\n",
    "pandas has been imported for you as pd and the DataFrame medals is already in your namespace.\n",
    "\n",
    "Instructions\n",
    "- Create a new DataFrame medals_sorted with the entries of medals sorted. Use .sort_index(level=0) to ensure the Index is sorted suitably.\n",
    "- Print the number of bronze medals won by Germany and all of the silver medal data. This has been done for you.\n",
    "- Create an alias for pd.IndexSlice called idx. A slicer pd.IndexSlice is required when slicing on the inner level of a MultiIndex.\n",
    "- Slice all the data on medals won by the United Kingdom. To do this, use the .loc[] accessor with idx[:,'United Kingdom'], :."
   ]
  },
  {
   "cell_type": "code",
   "execution_count": null,
   "metadata": {
    "collapsed": true,
    "nbpresent": {
     "id": "9bd17b46-75f9-4622-96b8-5eecaf5e2d1e"
    }
   },
   "outputs": [],
   "source": [
    "# Sort the entries of medals: medals_sorted\n",
    "medals_sorted = medals.sort_index(level=0)\n",
    "\n",
    "# Print the number of Bronze medals won by Germany\n",
    "print(medals_sorted.loc[('bronze','Germany')])\n",
    "\n",
    "# Print data about silver medals\n",
    "print(medals_sorted.loc['silver'])\n",
    "\n",
    "# Create alias for pd.IndexSlice: idx\n",
    "idx = pd.IndexSlice\n",
    "\n",
    "# Print all the data on medals won by the United Kingdom\n",
    "print(medals_sorted.loc[idx[:,'United Kingdom'], :])\n"
   ]
  },
  {
   "cell_type": "markdown",
   "metadata": {
    "nbpresent": {
     "id": "13036820-ea0c-4b15-b066-6fb615193f6c"
    }
   },
   "source": [
    "It looks like only the United States and the Soviet Union have won more Silver medals than the United Kingdom."
   ]
  },
  {
   "cell_type": "markdown",
   "metadata": {
    "nbpresent": {
     "id": "fd977ef0-4692-40d9-80d9-224c53aa9a68"
    }
   },
   "source": [
    "### Concatenating horizontally to get MultiIndexed columns\n",
    "\n",
    "It is also possible to construct a DataFrame with hierarchically indexed columns. For this exercise, you'll start with pandas imported and a list of three DataFrames called dataframes. All three DataFrames contain 'Company', 'Product', and 'Units' columns with a 'Date' column as the index pertaining to sales transactions during the month of February, 2015. The first DataFrame describes Hardware transactions, the second describes Software transactions, and the third, Service transactions.\n",
    "\n",
    "Your task is to concatenate the DataFrames horizontally and to create a MultiIndex on the columns. From there, you can summarize the resulting DataFrame and slice some information from it.\n",
    "\n",
    "Instructions\n",
    "- Construct a new DataFrame february with MultiIndexed columns by concatenating the list dataframes.\n",
    "    - Use axis=1 to stack the DataFrames horizontally and the keyword argument keys=['Hardware', 'Software', 'Service'] to construct a hierarchical Index from each DataFrame.\n",
    "- Print summary information from the new DataFrame february using the .info() method. This has been done for you.\n",
    "- Create an alias called idx for pd.IndexSlice.\n",
    "- Extract a slice called slice_2_8 from february (using .loc[] & idx) that comprises rows between Feb. 2, 2015 to Feb. 8, 2015 from columns under 'Company'.\n",
    "- Print the slice_2_8. This has been done for you, so hit 'Submit Answer' to see the sliced data!"
   ]
  },
  {
   "cell_type": "code",
   "execution_count": null,
   "metadata": {
    "collapsed": true,
    "nbpresent": {
     "id": "083b23dc-4bcc-48f3-9db2-852d391e5e34"
    }
   },
   "outputs": [],
   "source": [
    "# Concatenate dataframes: february\n",
    "february = pd.concat(dataframes,keys=['Hardware', 'Software', 'Service'], axis=1)\n",
    "\n",
    "# Print february.info()\n",
    "print(february.info())\n",
    "\n",
    "# Assign pd.IndexSlice: idx\n",
    "idx = pd.IndexSlice\n",
    "\n",
    "# Create the slice: slice_2_8\n",
    "slice_2_8 = february.loc['Feb. 2, 2015':'Feb. 8, 2015 ', idx[:, 'Company']]\n",
    "\n",
    "# Print slice_2_8\n",
    "print(slice_2_8)\n"
   ]
  },
  {
   "cell_type": "markdown",
   "metadata": {
    "nbpresent": {
     "id": "243761ae-6207-4ccd-806d-229fecfcbbcf"
    }
   },
   "source": [
    "### Concatenating DataFrames from a dict\n",
    "\n",
    "You're now going to revisit the sales data you worked with earlier in the chapter. Three DataFrames jan, feb, and mar have been pre-loaded for you. Your task is to aggregate the sum of all sales over the 'Company' column into a single DataFrame. You'll do this by constructing a dictionary of these DataFrames and then concatenating them.\n",
    "\n",
    "Instructions\n",
    "- Create a list called month_list consisting of the tuples ('january', jan), ('february', feb), and ('march', mar).\n",
    "- Create an empty dictionary called month_dict.\n",
    "- Inside the for loop:\n",
    "    - Group month_data by 'Company' and use .sum() to aggregate.\n",
    "- Construct a new DataFrame called sales by concatenating the DataFrames stored in month_dict.\n",
    "- Create an alias for pd.IndexSlice and print all sales by 'Mediacore'. This has been done for you, so hit 'Submit Answer' to see the result!"
   ]
  },
  {
   "cell_type": "code",
   "execution_count": null,
   "metadata": {
    "collapsed": true,
    "nbpresent": {
     "id": "cf536185-33fa-4949-bccb-167ab623a9dd"
    }
   },
   "outputs": [],
   "source": [
    "# Make the list of tuples: month_list\n",
    "month_list = [('january', jan), ('february', feb),('march', mar)]\n",
    "\n",
    "# Create an empty dictionary: month_dict\n",
    "month_dict = {}\n",
    "\n",
    "for month_name, month_data in month_list:\n",
    "\n",
    "    # Group month_data: month_dict[month_name]\n",
    "    month_dict[month_name] = month_data.groupby('Company').sum()\n",
    "\n",
    "# Concatenate data in month_dict: sales\n",
    "sales = pd.concat(month_dict)\n",
    "\n",
    "# Print sales\n",
    "print(sales)"
   ]
  },
  {
   "cell_type": "markdown",
   "metadata": {
    "nbpresent": {
     "id": "bd599723-e0ac-4f1e-a44b-156d729b5113"
    }
   },
   "source": [
    "## Outer & inner joins"
   ]
  },
  {
   "cell_type": "markdown",
   "metadata": {
    "nbpresent": {
     "id": "9245409d-8a57-4d95-955b-1d38422c6839"
    }
   },
   "source": [
    "### Concatenating DataFrames with inner join\n",
    "\n",
    "Here, you'll continue working with DataFrames compiled from The Guardian's Olympic medal dataset.\n",
    "\n",
    "The DataFrames bronze, silver, and gold have been pre-loaded for you.\n",
    "\n",
    "Your task is to compute an inner join.\n",
    "\n",
    "Instructions\n",
    "- Construct a list of DataFrames called medal_list with entries bronze, silver, and gold.\n",
    "- Concatenate medal_list horizontally with an inner join to create medals.\n",
    "    - Use the keyword argument keys=['bronze', 'silver', 'gold'] to yield suitable hierarchical indexing.\n",
    "    - Use axis=1 to get horizontal concatenation.\n",
    "    - Use join='inner' to keep only rows that share common index labels.\n",
    "- Print the new DataFrame medals."
   ]
  },
  {
   "cell_type": "code",
   "execution_count": null,
   "metadata": {
    "collapsed": true,
    "nbpresent": {
     "id": "1c737f4e-55f0-4f44-89d4-611c78c461e8"
    }
   },
   "outputs": [],
   "source": [
    "# Create the list of DataFrames: medal_list\n",
    "medal_list = [bronze, silver, gold]\n",
    "\n",
    "# Concatenate medal_list horizontally using an inner join: medals\n",
    "medals = pd.concat(medal_list, keys=['bronze', 'silver', 'gold'], axis=1, join=\"inner\")\n",
    "\n",
    "# Print medals\n",
    "print(medals)\n"
   ]
  },
  {
   "cell_type": "markdown",
   "metadata": {
    "nbpresent": {
     "id": "71cec23e-805f-4448-bcb7-0452fe8af05f"
    }
   },
   "source": [
    "France, Italy, and Germany got dropped as part of the join since they are not present in each of bronze, silver, and gold. Therefore, the final DataFrame has only the United States, Soviet Union, and United Kingdom."
   ]
  },
  {
   "cell_type": "markdown",
   "metadata": {
    "nbpresent": {
     "id": "005c8515-d1ac-4a0b-8628-33bf58e18188"
    }
   },
   "source": [
    "### Resampling & concatenating DataFrames with inner join\n",
    "\n",
    "In this exercise, you'll compare the historical 10-year GDP (Gross Domestic Product) growth in the US and in China. The data for the US starts in 1947 and is recorded quarterly; by contrast, the data for China starts in 1966 and is recorded annually.\n",
    "\n",
    "You'll need to use a combination of resampling and an inner join to align the index labels. You'll need an appropriate offset alias for resampling, and the method .resample() must be chained with some kind of aggregation method (.pct_change() and .last() in this case).\n",
    "\n",
    "pandas has been imported as pd, and the DataFrames china and us have been pre-loaded, with the output of china.head() and us.head() printed in the IPython Shell.\n",
    "\n",
    "Instructions\n",
    "- Make a new DataFrame china_annual by resampling the DataFrame china with .resample('A') (i.e., with annual frequency) and chaining two method calls:\n",
    "    - Chain .pct_change(10) as an aggregation method to compute the percentage change with an offset of ten years.\n",
    "    - Chain .dropna() to eliminate rows containing null values.\n",
    "- Make a new DataFrame us_annual by resampling the DataFrame us exactly as you resampled china.\n",
    "- Concatenate china_annual and us_annual to construct a DataFrame called gdp. Use join='inner' to perform an inner join and use axis=1 to concatenate horizontally.\n",
    "- Print the result of resampling gdp every decade (i.e., using .resample('10A')) and aggregating with the method .last(). This has been done for you, so hit 'Submit Answer' to see the result!"
   ]
  },
  {
   "cell_type": "code",
   "execution_count": null,
   "metadata": {
    "collapsed": true,
    "nbpresent": {
     "id": "a88c2ae2-18db-4dab-b09d-2220dce13e2a"
    }
   },
   "outputs": [],
   "source": [
    "# Resample and tidy china: china_annual\n",
    "china_annual = china.resample('A').pct_change(10).dropna()\n",
    "\n",
    "# Resample and tidy us: us_annual\n",
    "us_annual = us.resample('A').pct_change(10).dropna()\n",
    "\n",
    "# Concatenate china_annual and us_annual: gdp\n",
    "gdp = pd.concat([china_annual, us_annual], join='inner',axis=1)\n",
    "\n",
    "# Resample gdp and print\n",
    "print(gdp.resample('10A').last())"
   ]
  },
  {
   "cell_type": "markdown",
   "metadata": {
    "nbpresent": {
     "id": "9b7a61ab-293c-490a-b0b2-50065f219691"
    }
   },
   "source": [
    "## 3. Merging data"
   ]
  },
  {
   "cell_type": "markdown",
   "metadata": {
    "nbpresent": {
     "id": "99a883f8-450a-4ac8-b13f-d855a2f60060"
    }
   },
   "source": [
    "### Merging company DataFrames\n",
    "\n",
    "Suppose your company has operations in several different cities under several different managers. The DataFrames revenue and managers contain partial information related to the company. That is, the rows of the city columns don't quite match in revenue and managers (the Mendocino branch has no revenue yet since it just opened and the manager of Springfield branch recently left the company).\n",
    "\n",
    "The DataFrames have been printed in the IPython Shell. If you were to run the command combined = pd.merge(revenue, managers, on='city'), how many rows would combined have?\n",
    "\n",
    "Possible Answers\n",
    "Click or Press Ctrl+1 to focus\n",
    "- 0 rows.\n",
    "- 2 rows.(Correct)\n",
    "- 3 rows.\n",
    "- 4 rows."
   ]
  },
  {
   "cell_type": "code",
   "execution_count": null,
   "metadata": {
    "collapsed": true,
    "nbpresent": {
     "id": "cfb3efbc-57a8-43fb-94a1-8b62d5a7b12d"
    }
   },
   "outputs": [],
   "source": [
    "          city  revenue\n",
    "0       Austin      100\n",
    "1       Denver       83\n",
    "2  Springfield        4\n",
    "\n",
    "        city   manager\n",
    "0     Austin  Charlers\n",
    "1     Denver      Joel\n",
    "2  Mendocino     Brett"
   ]
  },
  {
   "cell_type": "markdown",
   "metadata": {
    "nbpresent": {
     "id": "4c4ca22a-3407-40ae-a38f-c6c6bb08f53d"
    }
   },
   "source": [
    "### Merging on a specific column\n",
    "\n",
    "This exercise follows on the last one with the DataFrames revenue and managers for your company. You expect your company to grow and, eventually, to operate in cities with the same name on different states. As such, you decide that every branch should have a numerical branch identifier. Thus, you add a branch_id column to both DataFrames. Moreover, new cities have been added to both the revenue and managers DataFrames as well. pandas has been imported as pd and both DataFrames are available in your namespace.\n",
    "\n",
    "At present, there should be a 1-to-1 relationship between the city and branch_id fields. In that case, the result of a merge on the city columns ought to give you the same output as a merge on the branch_id columns. Do they? Can you spot an ambiguity in one of the DataFrames?\n",
    "\n",
    "Instructions\n",
    "- Using pd.merge(), merge the DataFrames revenue and managers on the 'city' column of each. Store the result as merge_by_city.\n",
    "- Print the DataFrame merge_by_city. This has been done for you.\n",
    "- Merge the DataFrames revenue and managers on the 'branch_id' column of each. Store the result as merge_by_id.\n",
    "- Print the DataFrame merge_by_id. This has been done for you, so hit 'Submit Answer' to see the result!"
   ]
  },
  {
   "cell_type": "code",
   "execution_count": null,
   "metadata": {
    "collapsed": true,
    "nbpresent": {
     "id": "a6f8f868-e75e-45e2-b2e2-39b08c804c00"
    }
   },
   "outputs": [],
   "source": [
    "# Merge revenue with managers on 'city': merge_by_city\n",
    "merge_by_city = pd.merge(revenue, managers, on='city')\n",
    "\n",
    "# Print merge_by_city\n",
    "print(merge_by_city)\n",
    "\n",
    "# Merge revenue with managers on 'branch_id': merge_by_id\n",
    "merge_by_id = pd.merge(revenue, managers, on='branch_id')\n",
    "\n",
    "# Print merge_by_id\n",
    "print(merge_by_id)"
   ]
  },
  {
   "cell_type": "markdown",
   "metadata": {
    "nbpresent": {
     "id": "08e94f1e-eba6-4d4e-a7ca-71de9199f4dd"
    }
   },
   "source": [
    "Notice that when you merge on 'city', the resulting DataFrame has a peculiar result: In row 2, the city Springfield has two different branch IDs. This is because there are actually two different cities named Springfield - one in the State of Illinois, and the other in Missouri. The revenue DataFrame has the one from Illinois, and the managers DataFrame has the one from Missouri. Consequently, when you merge on 'branch_id', both of these get dropped from the merged DataFrame."
   ]
  },
  {
   "cell_type": "markdown",
   "metadata": {
    "nbpresent": {
     "id": "6257403a-5676-4b6c-8da8-6f1724c4b86a"
    }
   },
   "source": [
    "Merging on columns with non-matching labels\n",
    "100xp\n",
    "You continue working with the revenue & managers DataFrames from before. This time, someone has changed the field name 'city' to 'branch' in the managers table. Now, when you attempt to merge DataFrames, an exception is thrown:\n",
    "\n",
    ">>> pd.merge(revenue, managers, on='city')\n",
    "Traceback (most recent call last):\n",
    "    ... <text deleted> ...\n",
    "    pd.merge(revenue, managers, on='city')\n",
    "    ... <text deleted> ...\n",
    "KeyError: 'city'\n",
    "Given this, it will take a bit more work for you to join or merge on the city/branch name. You have to specify the left_on and right_on parameters in the call to pd.merge().\n",
    "\n",
    "As before, pandas has been pre-imported as pd and the revenue and managers DataFrames are in your namespace. They have been printed in the IPython Shell so you can examine the columns prior to merging.\n",
    "\n",
    "Are you able to merge better than in the last exercise? How should the rows with Springfield be handled?\n",
    "\n",
    "Instructions\n",
    "- Merge the two DataFrames using the city and branch columns from the appropriate DataFrame. In your call to pd.merge(), you will have to specify the parameters left_on and right_on appropriately.\n",
    "- Print the new DataFrame combined."
   ]
  },
  {
   "cell_type": "code",
   "execution_count": null,
   "metadata": {
    "collapsed": true,
    "nbpresent": {
     "id": "9956beee-1a34-4407-8a1a-6587c8e48fa5"
    }
   },
   "outputs": [],
   "source": [
    "# Merge revenue & managers on 'city' & 'branch': combined\n",
    "combined = pd.merge(revenue, managers, left_on='city', right_on='branch')\n",
    "\n",
    "# Print combined\n",
    "print(combined)"
   ]
  },
  {
   "cell_type": "markdown",
   "metadata": {
    "nbpresent": {
     "id": "91423587-d768-4f91-b85f-15a9830205d8"
    }
   },
   "source": [
    "### Merging on multiple columns\n",
    "\n",
    "Another strategy to disambiguate cities with identical names is to add information on the states in which the cities are located. To this end, you add a column called state to both DataFrames from the preceding exercises. Again, pandas has been pre-imported as pd and the revenue and managers DataFrames are in your namespace.\n",
    "\n",
    "Your goal in this exercise is to use pd.merge() to merge DataFrames using multiple columns (using 'branch_id', 'city', and 'state' in this case).\n",
    "\n",
    "Are you able to match all your company's branches correctly?\n",
    "\n",
    "Instructions\n",
    "- Create a column called 'state' in the DataFrame revenue, consisting of the list ['TX','CO','IL','CA'].\n",
    "- Create a column called 'state' in the DataFrame managers, consisting of the list ['TX','CO','CA','MO'].\n",
    "- Merge the DataFrames revenue and managers using three columns :'branch_id', 'city', and 'state'. Pass them in as a list to the on paramater of pd.merge()."
   ]
  },
  {
   "cell_type": "code",
   "execution_count": null,
   "metadata": {
    "collapsed": true,
    "nbpresent": {
     "id": "e2f50bee-b87d-4015-9c18-d2bafb3b298c"
    }
   },
   "outputs": [],
   "source": [
    "# Add 'state' column to revenue: revenue['state']\n",
    "revenue['state'] = ['TX','CO','IL','CA']\n",
    "\n",
    "# Add 'state' column to managers: managers['state']\n",
    "managers['state'] = ['TX','CO','CA','MO']\n",
    "\n",
    "# Merge revenue & managers on 'branch_id', 'city', & 'state': combined\n",
    "combined = pd.merge(revenue, managers, on=['branch_id', 'city', 'state'])\n",
    "\n",
    "# Print combined\n",
    "print(combined)"
   ]
  },
  {
   "cell_type": "markdown",
   "metadata": {
    "nbpresent": {
     "id": "6b057215-44b8-49cc-a5f7-0476d62aec15"
    }
   },
   "source": [
    "## Joining DataFrames"
   ]
  },
  {
   "cell_type": "markdown",
   "metadata": {
    "nbpresent": {
     "id": "39c2e37b-bf58-40c2-9a52-81b6f81c0813"
    }
   },
   "source": [
    "Joining by Index\n",
    "\n",
    "The DataFrames revenue and managers are displayed in the IPython Shell. Here, they are indexed by 'branch_id'.\n",
    "\n",
    "Choose the function call below that will join the DataFrames on their indexes and return 5 rows with index labels [10, 20, 30, 31, 47]. Explore each of them in the IPython Shell to get a better understanding of their functionality.\n",
    "\n",
    "Possible Answers\n",
    "pd.merge(revenue, managers, on='branch_id').\n",
    "pd.merge(managers, revenue, how='left').\n",
    "revenue.join(managers, lsuffix='_rev', rsuffix='_mng', how='outer').(Correct) \n",
    "managers.join(revenue, lsuffix='_mgn', rsuffix='_rev', how='left')."
   ]
  },
  {
   "cell_type": "raw",
   "metadata": {
    "nbpresent": {
     "id": "20a51dd0-7377-4b7d-b9e5-21f9cb11a7d9"
    }
   },
   "source": [
    "                  city  revenue state\n",
    "branch_id                            \n",
    "10              Austin      100    TX\n",
    "20              Denver       83    CO\n",
    "30         Springfield        4    IL\n",
    "47           Mendocino      200    CA\n",
    "\n",
    "                branch   manager state\n",
    "branch_id                             \n",
    "10              Austin  Charlers    TX\n",
    "20              Denver      Joel    CO\n",
    "47           Mendocino     Brett    CA\n",
    "31         Springfield     Sally    MO"
   ]
  },
  {
   "cell_type": "markdown",
   "metadata": {
    "nbpresent": {
     "id": "cd5cee2f-7a7d-4919-9060-beeb91385307"
    }
   },
   "source": [
    "### Choosing a joining strategy\n",
    "\n",
    "Suppose you have two DataFrames: students (with columns 'StudentID', 'LastName', 'FirstName', and 'Major') and midterm_results (with columns 'StudentID', 'Q1', 'Q2', and 'Q3' for their scores on midterm questions).\n",
    "\n",
    "You want to combine the DataFrames into a single DataFrame grades, and be able to easily spot which students wrote the midterm and which didn't (their midterm question scores 'Q1', 'Q2', & 'Q3' should be filled with NaN values).\n",
    "\n",
    "You also want to drop rows from midterm_results in which the StudentID is not found in students.\n",
    "\n",
    "Which of the following strategies gives the desired result?\n",
    "\n",
    "Possible Answers\n",
    "- A left join: grades = pd.merge(students, midterm_results, how='left'). (Correct)\n",
    "- A right join: grades = pd.merge(students, midterm_results, how='right').\n",
    "- An inner join: grades = pd.merge(students, midterm_results, how='inner').\n",
    "- An outer join: grades = pd.merge(students, midterm_results, how='outer')."
   ]
  },
  {
   "cell_type": "markdown",
   "metadata": {
    "nbpresent": {
     "id": "a2c3a23d-94e0-4ea2-be33-c07e681217b5"
    }
   },
   "source": [
    "### Left & right merging on multiple columns\n",
    "\n",
    "You now have, in addition to the revenue and managers DataFrames from prior exercises, a DataFrame sales that summarizes units sold from specific branches (identified by city and state but not branch_id).\n",
    "\n",
    "Once again, the managers DataFrame uses the label branch in place of city as in the other two DataFrames. Your task here is to employ left and right merges to preserve data and identify where data is missing.\n",
    "\n",
    "By merging revenue and sales with a right merge, you can identify the missing revenue values. Here, you don't need to specify left_on or right_on because the columns to merge on have matching labels.\n",
    "\n",
    "By merging sales and managers with a left merge, you can identify the missing manager. Here, the columns to merge on have conflicting labels, so you must specify left_on and right_on. In both cases, you're looking to figure out how to connect the fields in rows containing Springfield.\n",
    "\n",
    "pandas has been imported as pd and the three DataFrames revenue, managers, and sales have been pre-loaded. They have been printed for you to explore in the IPython Shell.\n",
    "\n",
    "Instructions\n",
    "- Execute a right merge using pd.merge() with revenue and sales to yield a new DataFrame revenue_and_sales.\n",
    "    - Use how='right' and on=['city', 'state'].\n",
    "- Print the new DataFrame revenue_and_sales. This has been done for you.\n",
    "- Execute a left merge with sales and managers to yield a new DataFrame sales_and_managers.\n",
    "- Use how='left', left_on=['city', 'state'], and right_on=['branch', 'state].\n",
    "- Print the new DataFrame sales_and_managers. This has been done for you, so hit 'Submit Answer' to see the result!"
   ]
  },
  {
   "cell_type": "code",
   "execution_count": null,
   "metadata": {
    "collapsed": true,
    "nbpresent": {
     "id": "9bf6825d-ca3b-43b9-ac34-5eb6f18faed8"
    }
   },
   "outputs": [],
   "source": [
    "# Merge revenue and sales: revenue_and_sales\n",
    "revenue_and_sales = pd.merge(revenue, sales, how='right',on=['city', 'state'])\n",
    "\n",
    "# Print revenue_and_sales\n",
    "print(revenue_and_sales)\n",
    "\n",
    "# Merge sales and managers: sales_and_managers\n",
    "sales_and_managers = pd.merge(sales ,managers, how='left', left_on=['city', 'state'], right_on=['branch', 'state'])\n",
    "\n",
    "# Print sales_and_managers\n",
    "print(sales_and_managers)"
   ]
  },
  {
   "cell_type": "markdown",
   "metadata": {
    "nbpresent": {
     "id": "653dfd21-8939-4ff5-89e1-28122b24e15d"
    }
   },
   "source": [
    "### Merging DataFrames with outer join\n",
    "\n",
    "This exercise picks up where the previous one left off. The DataFrames revenue, managers, and sales are pre-loaded into your namespace (and, of course, pandas is imported as pd). Moreover, the merged DataFrames revenue_and_sales and sales_and_managers have been pre-computed exactly as you did in the previous exercise.\n",
    "\n",
    "The merged DataFrames contain enough information to construct a DataFrame with 5 rows with all known information correctly aligned and each branch listed only once. You will try to merge the merged DataFrames on all matching keys (which computes an inner join by default). You can compare the result to an outer join and also to an outer join with restricted subset of columns as keys.\n",
    "\n",
    "Instructions\n",
    "- Merge sales_and_managers with revenue_and_sales. Store the result as merge_default.\n",
    "- Print merge_default. This has been done for you.\n",
    "- Merge sales_and_managers with revenue_and_sales using how='outer'. Store the result as merge_outer.\n",
    "- Print merge_outer. This has been done for you.\n",
    "- Merge sales_and_managers with revenue_and_sales only on ['city','state'] using an outer join. Store the result as merge_outer_on and hit 'Submit Answer' to see what the merged DataFrames look like!"
   ]
  },
  {
   "cell_type": "code",
   "execution_count": null,
   "metadata": {
    "collapsed": true,
    "nbpresent": {
     "id": "b5b29eb5-7cbe-4567-84b4-9d05c2eaa03f"
    }
   },
   "outputs": [],
   "source": [
    "# Perform the first merge: merge_default\n",
    "merge_default = pd.merge(sales_and_managers,revenue_and_sales)\n",
    "\n",
    "# Print merge_default\n",
    "print(merge_default)\n",
    "\n",
    "# Perform the second merge: merge_outer\n",
    "merge_outer = pd.merge(sales_and_managers,revenue_and_sales, how='outer')\n",
    "\n",
    "# Print merge_outer\n",
    "print(merge_outer)\n",
    "\n",
    "# Perform the third merge: merge_outer_on\n",
    "merge_outer_on = pd.merge(sales_and_managers,revenue_and_sales, how='outer', on=['city','state'])\n",
    "\n",
    "# Print merge_outer_on\n",
    "print(merge_outer_on)"
   ]
  },
  {
   "cell_type": "markdown",
   "metadata": {
    "nbpresent": {
     "id": "9977b8cd-5b69-4318-a357-97243981fb2a"
    }
   },
   "source": [
    "## Ordered merges"
   ]
  },
  {
   "cell_type": "markdown",
   "metadata": {
    "nbpresent": {
     "id": "a7275146-27f6-4284-9d38-6fc4b9346ca5"
    }
   },
   "source": [
    "### Using merge_ordered()\n",
    "\n",
    "This exercise uses pre-loaded DataFrames austin and houston that contain weather data from the cities Austin and Houston respectively. They have been printed in the IPython Shell for you to examine.\n",
    "\n",
    "Weather conditions were recorded on separate days and you need to merge these two DataFrames together such that the dates are ordered. To do this, you'll use pd.merge_ordered(). After you're done, note the order of the rows before and after merging.\n",
    "\n",
    "Instructions\n",
    "- Perform an ordered merge on austin and houston using pd.merge_ordered(). Store the result as tx_weather.\n",
    "- Print tx_weather. You should notice that the rows are sorted by the date but it is not possible to tell which observation came from which city.\n",
    "- Perform another ordered merge on austin and houston.\n",
    "    - This time, specify the keyword arguments on='date' and suffixes=['_aus','_hus'] so that the rows can be distinguished. Store the result as tx_weather_suff.\n",
    "- Print tx_weather_suff to examine its contents. This has been done for you.\n",
    "- Perform a third ordered merge on austin and houston.\n",
    "    - This time, in addition to the on and suffixes parameters, specify the keyword argument fill_method='ffill' to use forward-filling to replace NaN entries with the most recent non-null entry, and hit 'Submit Answer' to examine the contents of the merged DataFrames!"
   ]
  },
  {
   "cell_type": "code",
   "execution_count": null,
   "metadata": {
    "collapsed": true,
    "nbpresent": {
     "id": "4de9030f-4947-4b9f-85f7-32cdede0d2fa"
    }
   },
   "outputs": [],
   "source": [
    "# Perform the first ordered merge: tx_weather\n",
    "tx_weather = pd.merge_ordered(austin, houston)\n",
    "\n",
    "# Print tx_weather\n",
    "print(tx_weather)\n",
    "\n",
    "# Perform the second ordered merge: tx_weather_suff\n",
    "tx_weather_suff = pd.merge_ordered(austin, houston,on='date',suffixes=['_aus','_hus'])\n",
    "\n",
    "# Print tx_weather_suff\n",
    "print(tx_weather_suff)\n",
    "\n",
    "# Perform the third ordered merge: tx_weather_ffill\n",
    "tx_weather_ffill = pd.merge_ordered(austin, houston,on='date',suffixes=['_aus','_hus'],fill_method='ffill')\n",
    "\n",
    "# Print tx_weather_ffill\n",
    "print(tx_weather_ffill)"
   ]
  },
  {
   "cell_type": "markdown",
   "metadata": {
    "nbpresent": {
     "id": "4822336e-fe27-453c-99cc-d2ca798decbb"
    }
   },
   "source": [
    "### Using merge_asof()\n",
    "\n",
    "Similar to pd.merge_ordered(), the pd.merge_asof() function will also merge values in order using the on column, but for each row in the left DataFrame, only rows from the right DataFrame whose 'on' column values are less than the left value will be kept.\n",
    "\n",
    "This function can be use to align disparate datetime frequencies without having to first resample.\n",
    "\n",
    "Here, you'll merge monthly oil prices (US dollars) into a full automobile fuel efficiency dataset. The oil and automobile DataFrames have been pre-loaded as oil and auto. The first 5 rows of each have been printed in the IPython Shell for you to explore.\n",
    "\n",
    "These datasets will align such that the first price of the year will be broadcast into the rows of the automobiles DataFrame. This is considered correct since by the start of any given year, most automobiles for that year will have already been manufactured.\n",
    "\n",
    "You'll then inspect the merged DataFrame, resample by year and compute the mean 'Price' and 'mpg'. You should be able to see a trend in these two columns, that you can confirm by computing the Pearson correlation between resampled 'Price' and 'mpg'.\n",
    "\n",
    "Instructions\n",
    "- Merge auto and oil using pd.merge_asof() with left_on='yr' and right_on='Date'. Store the result as merged.\n",
    "- Print the tail of merged. This has been done for you.\n",
    "- Resample merged using 'A' (annual frequency), and on='Date'. Select [['mpg','Price']] and aggregate the mean. Store the result as yearly.\n",
    "- Hit Submit Answer to examine the contents of yearly and yearly.corr(), which shows the Pearson correlation between the resampled 'Price' and 'mpg'."
   ]
  },
  {
   "cell_type": "code",
   "execution_count": null,
   "metadata": {
    "collapsed": true,
    "nbpresent": {
     "id": "74bbe167-5b9c-473d-88ff-c472e029b573"
    }
   },
   "outputs": [],
   "source": [
    "# Merge automobile and oil: merged\n",
    "merged = pd.merge_asof(auto , oil, left_on='yr' ,right_on='Date')\n",
    "\n",
    "# Print the tail of merged\n",
    "print(merged.tail())\n",
    "\n",
    "# Resample merged: yearly\n",
    "yearly = merged.resample('A',on='Date')[['mpg','Price']].mean()\n",
    "\n",
    "# Print yearly\n",
    "print(yearly)\n",
    "\n",
    "# print yearly.corr()\n",
    "print(yearly.corr())"
   ]
  },
  {
   "cell_type": "raw",
   "metadata": {
    "nbpresent": {
     "id": "40121674-9eb7-4636-9e8f-f078b8be9213"
    }
   },
   "source": [
    "                mpg     Price\n",
    "    mpg    1.000000  0.948677\n",
    "    Price  0.948677  1.000000"
   ]
  },
  {
   "cell_type": "markdown",
   "metadata": {
    "nbpresent": {
     "id": "a273cd2a-df37-4e4c-a3c7-869fafc74879"
    }
   },
   "source": [
    "## 4. Case Study - Summer Olympics"
   ]
  },
  {
   "cell_type": "markdown",
   "metadata": {
    "nbpresent": {
     "id": "8161d5bc-52c2-42b4-85d9-a03d3de91bf2"
    }
   },
   "source": [
    "### Medals in the Summer Olympics"
   ]
  },
  {
   "cell_type": "markdown",
   "metadata": {
    "nbpresent": {
     "id": "010395d8-0620-41fc-8b9e-9370eef0b004"
    }
   },
   "source": [
    "### Loading Olympic edition DataFrame\n",
    "\n",
    "In this chapter, you'll be using The Guardian's Olympic medal dataset.\n",
    "\n",
    "Your first task here is to prepare a DataFrame editions from a tab-separated values (TSV) file.\n",
    "\n",
    "Initially, editions has 26 rows (one for each Olympic edition, i.e., a year in which the Olympics was held) and 7 columns: 'Edition', 'Bronze', 'Gold', 'Silver', 'Grand Total', 'City', and 'Country'.\n",
    "\n",
    "For the analysis that follows, you won't need the overall medal counts, so you want to keep only the useful columns from editions: 'Edition', 'Grand Total', City, and Country.\n",
    "\n",
    "Instructions\n",
    "- Read file_path into a DataFrame called editions. The identifier file_path has been pre-defined with the filename 'Summer Olympic medallists 1896 to 2008 - EDITIONS.tsv'. You'll have to use the option sep='\\t' because the file uses tabs to delimit fields (pd.read_csv() expects commas by default).\n",
    "- Select only the columns 'Edition', 'Grand Total', 'City', and 'Country' from editions.\n",
    "- Print the final DataFrame editions in entirety (there are only 26 rows). This has been done for you, so hit 'Submit Answer' to see the result!"
   ]
  },
  {
   "cell_type": "code",
   "execution_count": null,
   "metadata": {
    "collapsed": true,
    "nbpresent": {
     "id": "b1d61b41-ccb7-43e1-9ac6-c02895cd8125"
    }
   },
   "outputs": [],
   "source": [
    "#Import pandas\n",
    "import pandas as pd\n",
    "\n",
    "# Create file path: file_path\n",
    "file_path = 'Summer Olympic medallists 1896 to 2008 - EDITIONS.tsv'\n",
    "\n",
    "# Load DataFrame from file_path: editions\n",
    "editions = pd.read_csv(file_path, sep='\\t')\n",
    "\n",
    "# Extract the relevant columns: editions\n",
    "editions = editions[['Edition', 'Grand Total', 'City','Country']]\n",
    "\n",
    "# Print editions DataFrame\n",
    "print(editions)"
   ]
  },
  {
   "cell_type": "raw",
   "metadata": {
    "nbpresent": {
     "id": "da937308-9e45-44db-b737-1cea76a8a4b0"
    }
   },
   "source": [
    "<script.py> output:\n",
    "        Edition  Grand Total         City                     Country\n",
    "    0      1896          151       Athens                      Greece\n",
    "    1      1900          512        Paris                      France\n",
    "    2      1904          470    St. Louis               United States\n",
    "    3      1908          804       London              United Kingdom\n",
    "    4      1912          885    Stockholm                      Sweden\n",
    "    5      1920         1298      Antwerp                     Belgium\n",
    "    6      1924          884        Paris                      France\n",
    "    7      1928          710    Amsterdam                 Netherlands\n",
    "    8      1932          615  Los Angeles               United States\n",
    "    9      1936          875       Berlin                     Germany\n",
    "    10     1948          814       London              United Kingdom\n",
    "    11     1952          889     Helsinki                     Finland\n",
    "    12     1956          885    Melbourne                   Australia\n",
    "    13     1960          882         Rome                       Italy\n",
    "    14     1964         1010        Tokyo                       Japan\n",
    "    15     1968         1031  Mexico City                      Mexico\n",
    "    16     1972         1185       Munich  West Germany (now Germany)\n",
    "    17     1976         1305     Montreal                      Canada\n",
    "    18     1980         1387       Moscow       U.S.S.R. (now Russia)\n",
    "    19     1984         1459  Los Angeles               United States\n",
    "    20     1988         1546        Seoul                 South Korea\n",
    "    21     1992         1705    Barcelona                       Spain\n",
    "    22     1996         1859      Atlanta               United States\n",
    "    23     2000         2015       Sydney                   Australia\n",
    "    24     2004         1998       Athens                      Greece\n",
    "    25     2008         2042      Beijing                       China"
   ]
  },
  {
   "cell_type": "markdown",
   "metadata": {
    "nbpresent": {
     "id": "037adffb-e1d9-4649-ae56-ca6e30a30381"
    }
   },
   "source": [
    "### Loading IOC codes DataFrame\n",
    "\n",
    "Your task here is to prepare a DataFrame ioc_codes from a comma-separated values (CSV) file.\n",
    "\n",
    "Initially, ioc_codes has 200 rows (one for each country) and 3 columns: 'Country', 'NOC', & 'ISO code'.\n",
    "\n",
    "For the analysis that follows, you want to keep only the useful columns from ioc_codes: 'Country' and 'NOC' (the column 'NOC' contains three-letter codes representing each country).\n",
    "\n",
    "Instructions\n",
    "- Read file_path into a DataFrame called ioc_codes. The identifier file_path has been pre-defined with the filename 'Summer Olympic medallists 1896 to 2008 - IOC COUNTRY CODES.csv'.\n",
    "- Select only the columns 'Country' and 'NOC' from ioc_codes.\n",
    "- Print the leading 5 and trailing 5 rows of the DataFrame ioc_codes (there are 200 rows in total). This has been done for you, so hit 'Submit Answer' to see the result!"
   ]
  },
  {
   "cell_type": "code",
   "execution_count": null,
   "metadata": {
    "collapsed": true,
    "nbpresent": {
     "id": "2244b52c-27ed-4e94-97c6-762bfdc1018b"
    }
   },
   "outputs": [],
   "source": [
    "# Import pandas\n",
    "import pandas as pd\n",
    "\n",
    "# Create the file path: file_path\n",
    "file_path = 'Summer Olympic medallists 1896 to 2008 - IOC COUNTRY CODES.csv'\n",
    "\n",
    "# Load DataFrame from file_path: ioc_codes\n",
    "ioc_codes = pd.read_csv(file_path)\n",
    "\n",
    "# Extract the relevant columns: ioc_codes\n",
    "ioc_codes = ioc_codes[['Country', 'NOC']]\n",
    "\n",
    "# Print first and last 5 rows of ioc_codes\n",
    "print(ioc_codes.head())\n",
    "print(ioc_codes.tail())"
   ]
  },
  {
   "cell_type": "markdown",
   "metadata": {
    "nbpresent": {
     "id": "8a1808aa-2517-42e7-8fb3-c6c6d013f075"
    }
   },
   "source": [
    "### Building medals DataFrame\n",
    "\n",
    "Here, you'll start with the DataFrame editions from the previous exercise.\n",
    "\n",
    "You have a sequence of files summer_1896.csv, summer_1900.csv, ..., summer_2008.csv, one for each Olympic edition (year).\n",
    "\n",
    "You will build up a dictionary medals_dict with the Olympic editions (years) as keys and DataFrames as values.\n",
    "\n",
    "The dictionary is built up inside a loop over the year of each Olympic edition (from the Index of editions).\n",
    "\n",
    "Once the dictionary of DataFrames is built up, you will combine the DataFrames using pd.concat().\n",
    "\n",
    "Instructions\n",
    "- Within the for loop:\n",
    "    - Create the file path. This has been done for you.\n",
    "    - Read file_path into a DataFrame. Assign the result to the year key of medals_dict.\n",
    "    - Select only the columns 'Athlete', 'NOC', and 'Medal' from medals_dict[year].\n",
    "    - Create a new column called 'Edition' in the DataFrame medals_dict[year] whose entries are all year.\n",
    "- Concatenate the dictionary of DataFrames medals_dict into a DataFame called medals. Specify the keyword argument ignore_index=True to prevent repeated integer indices.\n",
    "- Print the first and last 5 rows of medals. This has been done for you, so hit 'Submit Answer' to see the result!"
   ]
  },
  {
   "cell_type": "code",
   "execution_count": null,
   "metadata": {
    "collapsed": true,
    "nbpresent": {
     "id": "2c134474-46c2-4981-b103-faad7bb9027a"
    }
   },
   "outputs": [],
   "source": [
    "# Import pandas\n",
    "import pandas as pd\n",
    "\n",
    "# Create empty dictionary: medals_dict\n",
    "medals_dict = {}\n",
    "\n",
    "for year in editions['Edition']:\n",
    "\n",
    "    # Create the file path: file_path\n",
    "    file_path = 'summer_{:d}.csv'.format(year)\n",
    "    \n",
    "    # Load file_path into a DataFrame: medals_dict[year]\n",
    "    medals_dict[year] = pd.read_csv(file_path)\n",
    "    \n",
    "    # Extract relevant columns: medals_dict[year]\n",
    "    medals_dict[year] =  medals_dict[year][['Athlete', 'NOC', 'Medal']]\n",
    "    \n",
    "    # Assign year to column 'Edition' of medals_dict\n",
    "    medals_dict[year]['Edition'] = year\n",
    "    \n",
    "# Concatenate medals_dict: medals\n",
    "medals = pd.concat(medals_dict, ignore_index=True)\n",
    "\n",
    "# Print first and last 5 rows of medals\n",
    "print(medals.head())\n",
    "print(medals.tail())"
   ]
  },
  {
   "cell_type": "markdown",
   "metadata": {
    "nbpresent": {
     "id": "804a8d3c-74e3-4935-abcc-27b6fbb4987e"
    }
   },
   "source": [
    "### Counting medals by country/edition in a pivot table\n",
    "\n",
    "Here, you'll start with the concatenated DataFrame medals from the previous exercise.\n",
    "\n",
    "You can construct a pivot table to see the number of medals each country won in each year. The result is a new DataFrame with the Olympic edition on the Index and with 138 country NOC codes as columns. If you want a refresher on pivot tables, it may be useful to refer back to the relevant exercises in Manipulating DataFrames with pandas.\n",
    "\n",
    "Instructions\n",
    "- Construct a pivot table from the DataFrame medals, aggregating by count (by specifying the aggfunc parameter). Use 'Edition' as the Index, 'Athlete' for the values, and 'NOC' for the columns.\n",
    "- Print the first & last 5 rows of medal_counts. This has been done for you, so hit 'Submit Answer' to see the results!"
   ]
  },
  {
   "cell_type": "code",
   "execution_count": null,
   "metadata": {
    "collapsed": true,
    "nbpresent": {
     "id": "9ed141ce-8daf-4c25-a81f-9281463e5044"
    }
   },
   "outputs": [],
   "source": [
    "# Construct the pivot_table: medal_counts\n",
    "medal_counts = medals.pivot_table(index='Edition', columns='NOC', values='Athlete', aggfunc='count')\n",
    "\n",
    "# Print the first & last 5 rows of medal_counts\n",
    "print(medal_counts.head())\n",
    "print(medal_counts.tail())"
   ]
  },
  {
   "cell_type": "markdown",
   "metadata": {
    "nbpresent": {
     "id": "018a1f74-7bdd-42ac-aab9-64ced2129701"
    }
   },
   "source": [
    "### Computing fraction of medals per Olympic edition\n",
    "\n",
    "In this exercise, you'll start with the DataFrames editions, medals, & medal_counts from prior exercises.\n",
    "\n",
    "You can extract a Series with the total number of medals awarded in each Olympic edition.\n",
    "\n",
    "The DataFrame medal_counts can be divided row-wise by the total number of medals awarded each edition; the method .divide() performs the broadcast as you require.\n",
    "\n",
    "This gives you a normalized indication of each country's performance in each edition.\n",
    "\n",
    "Instructions\n",
    "- Set the index of the DataFrame editions to be 'Edition' (using the method .set_index()). Save the result as totals.\n",
    "- Extract the 'Grand Total' column from totals and assign the result back to totals.\n",
    "- Divide the DataFrame medal_counts by totals along each row. You will have to use the .divide() method with the option axis='rows'. Assign the result to fractions.\n",
    "- Print first & last 5 rows of the DataFrame fractions. This has been done for you, so hit 'Submit Answer' to see the results!"
   ]
  },
  {
   "cell_type": "code",
   "execution_count": null,
   "metadata": {
    "collapsed": true,
    "nbpresent": {
     "id": "99411494-0c20-4ffd-86ba-148db961b29e"
    }
   },
   "outputs": [],
   "source": [
    "# Set Index of editions: totals\n",
    "totals = editions.set_index('Edition')\n",
    "\n",
    "# Reassign totals['Grand Total']: totals\n",
    "totals = totals['Grand Total']\n",
    "\n",
    "# Divide medal_counts by totals: fractions\n",
    "fractions = medal_counts.divide(totals,axis='rows')\n",
    "\n",
    "# Print first & last 5 rows of fractions\n",
    "print(fractions.head())\n",
    "print(fractions.tail())"
   ]
  },
  {
   "cell_type": "markdown",
   "metadata": {
    "nbpresent": {
     "id": "6671aa8d-7aa0-4b8d-8565-ed0501ddb53d"
    }
   },
   "source": [
    "### Computing percentage change in fraction of medals won\n",
    "\n",
    "Here, you'll start with the DataFrames editions, medals, medal_counts, & fractions from prior exercises.\n",
    "\n",
    "To see if there is a host country advantage, you first want to see how the fraction of medals won changes from edition to edition.\n",
    "\n",
    "The expanding mean provides a way to see this down each column. It is the value of the mean with all the data available up to that point in time. If you are interested in learning more about pandas' expanding transformations, this section of the [pandas documentation](http://pandas.pydata.org/pandas-docs/stable/computation.html#expanding-windows) has additional information.\n",
    "\n",
    "Instructions\n",
    "- Create mean_fractions by chaining the methods .expanding().mean() to fractions.\n",
    "- Compute the percentage change in mean_fractions down each column by applying .pct_change() and multiplying by 100. Assign the result to fractions_change.\n",
    "- Reset the index of fractions_change using the .reset_index() method. This will make 'Edition' an ordinary column.\n",
    "- Print the first and last 5 rows of the DataFrame fractions. This has been done for you, so hit 'Submit Answer' to see the results!"
   ]
  },
  {
   "cell_type": "code",
   "execution_count": null,
   "metadata": {
    "collapsed": true,
    "nbpresent": {
     "id": "af507767-15a8-429b-a79d-123073d7d7a3"
    }
   },
   "outputs": [],
   "source": [
    "# Apply the expanding mean: mean_fractions\n",
    "mean_fractions = fractions.expanding().mean()\n",
    "\n",
    "# Compute the percentage change: fractions_change\n",
    "fractions_change = mean_fractions.pct_change()*100\n",
    "\n",
    "# Reset the index of fractions_change: fractions_change\n",
    "fractions_change = fractions_change.reset_index('Edition')\n",
    "\n",
    "# Print first & last 5 rows of fractions_change\n",
    "print(fractions_change.head())\n",
    "print(fractions_change.tail())"
   ]
  },
  {
   "cell_type": "markdown",
   "metadata": {
    "nbpresent": {
     "id": "f73a55e3-b5b7-42d3-9918-84c567a0d419"
    }
   },
   "source": [
    "## Reshaping and plotting"
   ]
  },
  {
   "cell_type": "markdown",
   "metadata": {
    "nbpresent": {
     "id": "2b1ecef1-2ce3-425e-9bbc-05f876abc346"
    }
   },
   "source": [
    "### Building hosts DataFrame\n",
    "\n",
    "Your task here is to prepare a DataFrame hosts by left joining editions and ioc_codes.\n",
    "\n",
    "Once created, you will subset the Edition and NOC columns and set Edition as the Index.\n",
    "\n",
    "There are some missing NOC values; you will set those explicitly.\n",
    "\n",
    "Finally, you'll reset the Index & print the final DataFrame.\n",
    "\n",
    "Instructions\n",
    "- Create the DataFrame hosts by doing a left join on DataFrames editions and ioc_codes (using pd.merge()).\n",
    "- Clean up hosts by subsetting and setting the Index.\n",
    "    - Extract the columns 'Edition' and 'NOC'.\n",
    "    - Set 'Edition' column as the Index.\n",
    "- Use the .loc[] accessor to find and assign the missing values to the 'NOC' column in hosts. This has been done for you.\n",
    "- Reset the index of hosts using .reset_index(), and then hit 'Submit Answer' to see what hosts looks like!"
   ]
  },
  {
   "cell_type": "code",
   "execution_count": null,
   "metadata": {
    "collapsed": true,
    "nbpresent": {
     "id": "5dcaa405-df48-4454-b5fc-ad1a1acf04d9"
    }
   },
   "outputs": [],
   "source": [
    "# Import pandas\n",
    "import pandas as pd\n",
    "\n",
    "# Left join editions and ioc_codes: hosts\n",
    "hosts = pd.merge(editions, ioc_codes, how='left')\n",
    "\n",
    "# Extract relevant columns and set index: hosts\n",
    "hosts = hosts[['Edition','NOC']].set_index('Edition')\n",
    "\n",
    "# Fix missing 'NOC' values of hosts\n",
    "print(hosts.loc[hosts.NOC.isnull()])\n",
    "hosts.loc[1972, 'NOC'] = 'FRG'\n",
    "hosts.loc[1980, 'NOC'] = 'URS'\n",
    "hosts.loc[1988, 'NOC'] = 'KOR'\n",
    "\n",
    "# Reset Index of hosts: hosts\n",
    "hosts = hosts.reset_index()\n",
    "\n",
    "# Print hosts\n",
    "print(hosts)"
   ]
  },
  {
   "cell_type": "markdown",
   "metadata": {
    "nbpresent": {
     "id": "e9f2675c-5293-4542-95f6-d2909959136e"
    }
   },
   "source": [
    "### Reshaping for analysis\n",
    "\n",
    "This exercise starts off with fractions_change and hosts already loaded.\n",
    "\n",
    "Your task here is to reshape the fractions_change DataFrame for later analysis.\n",
    "\n",
    "Initially, fractions_change is a wide DataFrame of 26 rows (one for each Olympic edition) and 139 columns (one for the edition and 138 for the competing countries).\n",
    "\n",
    "On reshaping with pd.melt(), as you will see, the result is a tall DataFrame with 3588 rows and 3 columns that summarizes the fractional change in the expanding mean of the percentage of medals won for each country in blocks.\n",
    "\n",
    "Instructions\n",
    "- Create a DataFrame reshaped by reshaping the DataFrame fractions_change with pd.melt().\n",
    "    - You'll need to use the keyword argument id_vars='Edition' to set the identifier variable.\n",
    "    - You'll also need to use the keyword argument value_name='Change' to set the measured variables.\n",
    "- Print the shape of the DataFrames reshaped and fractions_change. This has been done for you.\n",
    "- Create a DataFrame chn by extracting all the rows from reshaped in which the three letter code for each country ('NOC') is 'CHN'.\n",
    "- Print the last 5 rows of the DataFrame chn using the .tail() method. This has been done for you, so hit 'Submit Answer' to see the results!"
   ]
  },
  {
   "cell_type": "code",
   "execution_count": null,
   "metadata": {
    "collapsed": true,
    "nbpresent": {
     "id": "09cae014-2e2a-4e30-98f2-b60aaceca7ef"
    }
   },
   "outputs": [],
   "source": [
    "# Import pandas\n",
    "import pandas as pd\n",
    "\n",
    "# Reshape fractions_change: reshaped\n",
    "reshaped = pd.melt(fractions_change, id_vars='Edition', value_name='Change')\n",
    "\n",
    "# Print reshaped.shape and fractions_change.shape\n",
    "print(reshaped.shape, fractions_change.shape)\n",
    "\n",
    "# Extract rows from reshaped where 'NOC' == CHN': chn\n",
    "chn = reshaped.loc[reshaped.NOC=='CHN']\n",
    "\n",
    "# Print last 5 rows of chn with .tail()\n",
    "print(chn.tail())"
   ]
  },
  {
   "cell_type": "markdown",
   "metadata": {
    "nbpresent": {
     "id": "ff1ea97c-418c-4d5b-9558-50731e6b8eda"
    }
   },
   "source": [
    "On looking at the hosting countries from the last 5 Olympic editions and the fractional change of medals won by China the last 5 editions, you can see that China fared significantly better in 2008 (i.e., when China was the host country)."
   ]
  },
  {
   "cell_type": "markdown",
   "metadata": {
    "nbpresent": {
     "id": "afda59c4-d638-4a01-8040-66b71a07350f"
    }
   },
   "source": [
    "### Merging to compute influence\n",
    "\n",
    "This exercise starts off with the DataFrames reshaped and hosts in the namespace.\n",
    "\n",
    "Your task is to merge the two DataFrames and tidy the result.\n",
    "\n",
    "The end result is a DataFrame summarizing the fractional change in the expanding mean of the percentage of medals won for the host country in each Olympic edition.\n",
    "\n",
    "Instructions\n",
    "- Merge reshaped and hosts using an inner join. Remember, how='inner' is the default behavior for pd.merge().\n",
    "- Print the first 5 rows of the DataFrame merged. This has been done for you. You should see that the rows are jumbled chronologically.\n",
    "- Set the index of merged to be 'Edition' and sort the index.\n",
    "- Print the first 5 rows of the DataFrame influence. This has been done for you, so hit 'Submit Answer' to see the results!"
   ]
  },
  {
   "cell_type": "code",
   "execution_count": null,
   "metadata": {
    "collapsed": true,
    "nbpresent": {
     "id": "0189ce84-004b-411e-ac2e-b0c34bbda502"
    }
   },
   "outputs": [],
   "source": [
    "# Import pandas\n",
    "import pandas as pd\n",
    "\n",
    "# Merge reshaped and hosts: merged\n",
    "merged = pd.merge(reshaped, hosts, how='inner')\n",
    "\n",
    "# Print first 5 rows of merged\n",
    "print(merged.head())\n",
    "\n",
    "# Set Index of merged and sort it: influence\n",
    "influence = merged.set_index('Edition').sort_index()\n",
    "\n",
    "# Print first 5 rows of influence\n",
    "print(influence.head())"
   ]
  },
  {
   "cell_type": "code",
   "execution_count": null,
   "metadata": {
    "collapsed": true,
    "nbpresent": {
     "id": "f8863bc5-64ec-4bee-a26b-97aec7cb27a3"
    }
   },
   "outputs": [],
   "source": [
    "It would be far more informative to visualize these results. This is exactly what you'll do in the next exercise!"
   ]
  },
  {
   "cell_type": "markdown",
   "metadata": {
    "nbpresent": {
     "id": "ed9a8a38-e431-4ade-a9bd-ef223f9bbc79"
    }
   },
   "source": [
    "### Plotting influence of host country\n",
    "\n",
    "This final exercise starts off with the DataFrames influence and editions in the namespace. Your job is to plot the influence of being a host country.\n",
    "\n",
    "Instructions\n",
    "- Create a Series called change by extracting the 'Change' column from influence.\n",
    "- Create a bar plot of change using the .plot() method with kind='bar'. Save the result as ax to permit further customization.\n",
    "- Customize the bar plot of change to improve readability:\n",
    "    - Apply the method .set_ylabel(\"% Change of Host Country Medal Count\") toax.\n",
    "    - Apply the method .set_title(\"Is there a Host Country Advantage?\") to ax.\n",
    "    - Apply the method .set_xticklabels(editions['City']) to ax.\n",
    "- Reveal the final plot using plt.show()."
   ]
  },
  {
   "cell_type": "code",
   "execution_count": null,
   "metadata": {
    "collapsed": true,
    "nbpresent": {
     "id": "c2be4e6f-cc8e-49c1-8435-55cfb717ba7b"
    }
   },
   "outputs": [],
   "source": [
    "# Import pyplot\n",
    "import matplotlib.pyplot as plt\n",
    "\n",
    "# Extract influence['Change']: change\n",
    "change = influence['Change']\n",
    "\n",
    "# Make bar plot of change: ax\n",
    "ax = change.plot(kind='bar')\n",
    "\n",
    "# Customize the plot to improve readability\n",
    "ax.set_ylabel(\"% Change of Host Country Medal Count\")\n",
    "ax.set_title(\"Is there a Host Country Advantage?\")\n",
    "ax.set_xticklabels(editions['City'])\n",
    "\n",
    "# Display the plot\n",
    "plt.show()"
   ]
  },
  {
   "cell_type": "code",
   "execution_count": null,
   "metadata": {
    "collapsed": true
   },
   "outputs": [],
   "source": [
    "## Self Testing"
   ]
  },
  {
   "cell_type": "code",
   "execution_count": 8,
   "metadata": {
    "collapsed": true
   },
   "outputs": [],
   "source": [
    "import pandas as pd"
   ]
  },
  {
   "cell_type": "code",
   "execution_count": 10,
   "metadata": {
    "collapsed": false
   },
   "outputs": [
    {
     "name": "stdout",
     "output_type": "stream",
     "text": [
      " Volume in drive C is Windows\n",
      " Volume Serial Number is 864C-9D59\n",
      "\n",
      " Directory of C:\\Users\\Lenovo\\Documents\\GitHub\\LearningPython\\Datacamp\\10. Merging DataFrames with pandas\n",
      "\n",
      "04/29/2017  08:33 PM    <DIR>          .\n",
      "04/29/2017  08:33 PM    <DIR>          ..\n",
      "04/29/2017  03:37 PM    <DIR>          .ipynb_checkpoints\n",
      "04/29/2017  08:33 PM           152,704 10. Merging DataFrames with pandas.ipynb\n",
      "04/29/2017  03:52 PM           696,818 ch1_slides.pdf\n",
      "04/29/2017  04:54 PM           578,095 ch2_slides.pdf\n",
      "04/29/2017  06:26 PM           580,649 ch3_slides.pdf\n",
      "04/29/2017  07:36 PM         1,322,232 ch4_slides.pdf\n",
      "04/29/2017  07:43 PM         1,304,807 Summer Olympic medallists 1896 to 2008.xlsx\n",
      "04/29/2017  08:33 PM    <DIR>          videos\n",
      "               6 File(s)      4,635,305 bytes\n",
      "               4 Dir(s)  280,080,068,608 bytes free\n"
     ]
    }
   ],
   "source": [
    "ls"
   ]
  },
  {
   "cell_type": "code",
   "execution_count": 13,
   "metadata": {
    "collapsed": true
   },
   "outputs": [],
   "source": [
    "pd.read_excel?"
   ]
  },
  {
   "cell_type": "code",
   "execution_count": 14,
   "metadata": {
    "collapsed": false,
    "nbpresent": {
     "id": "6e0fd564-76bd-48c4-9554-d6f78979fdf4"
    }
   },
   "outputs": [],
   "source": [
    "x = pd.read_excel('Summer Olympic medallists 1896 to 2008.xlsx',sheetname='ALL MEDALISTS',skiprows=4)"
   ]
  },
  {
   "cell_type": "code",
   "execution_count": 15,
   "metadata": {
    "collapsed": false
   },
   "outputs": [
    {
     "data": {
      "text/html": [
       "<div>\n",
       "<table border=\"1\" class=\"dataframe\">\n",
       "  <thead>\n",
       "    <tr style=\"text-align: right;\">\n",
       "      <th></th>\n",
       "      <th>City</th>\n",
       "      <th>Edition</th>\n",
       "      <th>Sport</th>\n",
       "      <th>Discipline</th>\n",
       "      <th>Athlete</th>\n",
       "      <th>NOC</th>\n",
       "      <th>Gender</th>\n",
       "      <th>Event</th>\n",
       "      <th>Event_gender</th>\n",
       "      <th>Medal</th>\n",
       "    </tr>\n",
       "  </thead>\n",
       "  <tbody>\n",
       "    <tr>\n",
       "      <th>0</th>\n",
       "      <td>Athens</td>\n",
       "      <td>1896</td>\n",
       "      <td>Aquatics</td>\n",
       "      <td>Swimming</td>\n",
       "      <td>HAJOS, Alfred</td>\n",
       "      <td>HUN</td>\n",
       "      <td>Men</td>\n",
       "      <td>100m freestyle</td>\n",
       "      <td>M</td>\n",
       "      <td>Gold</td>\n",
       "    </tr>\n",
       "    <tr>\n",
       "      <th>1</th>\n",
       "      <td>Athens</td>\n",
       "      <td>1896</td>\n",
       "      <td>Aquatics</td>\n",
       "      <td>Swimming</td>\n",
       "      <td>HERSCHMANN, Otto</td>\n",
       "      <td>AUT</td>\n",
       "      <td>Men</td>\n",
       "      <td>100m freestyle</td>\n",
       "      <td>M</td>\n",
       "      <td>Silver</td>\n",
       "    </tr>\n",
       "    <tr>\n",
       "      <th>2</th>\n",
       "      <td>Athens</td>\n",
       "      <td>1896</td>\n",
       "      <td>Aquatics</td>\n",
       "      <td>Swimming</td>\n",
       "      <td>DRIVAS, Dimitrios</td>\n",
       "      <td>GRE</td>\n",
       "      <td>Men</td>\n",
       "      <td>100m freestyle for sailors</td>\n",
       "      <td>M</td>\n",
       "      <td>Bronze</td>\n",
       "    </tr>\n",
       "    <tr>\n",
       "      <th>3</th>\n",
       "      <td>Athens</td>\n",
       "      <td>1896</td>\n",
       "      <td>Aquatics</td>\n",
       "      <td>Swimming</td>\n",
       "      <td>MALOKINIS, Ioannis</td>\n",
       "      <td>GRE</td>\n",
       "      <td>Men</td>\n",
       "      <td>100m freestyle for sailors</td>\n",
       "      <td>M</td>\n",
       "      <td>Gold</td>\n",
       "    </tr>\n",
       "    <tr>\n",
       "      <th>4</th>\n",
       "      <td>Athens</td>\n",
       "      <td>1896</td>\n",
       "      <td>Aquatics</td>\n",
       "      <td>Swimming</td>\n",
       "      <td>CHASAPIS, Spiridon</td>\n",
       "      <td>GRE</td>\n",
       "      <td>Men</td>\n",
       "      <td>100m freestyle for sailors</td>\n",
       "      <td>M</td>\n",
       "      <td>Silver</td>\n",
       "    </tr>\n",
       "  </tbody>\n",
       "</table>\n",
       "</div>"
      ],
      "text/plain": [
       "     City  Edition     Sport Discipline             Athlete  NOC Gender  \\\n",
       "0  Athens     1896  Aquatics   Swimming       HAJOS, Alfred  HUN    Men   \n",
       "1  Athens     1896  Aquatics   Swimming    HERSCHMANN, Otto  AUT    Men   \n",
       "2  Athens     1896  Aquatics   Swimming   DRIVAS, Dimitrios  GRE    Men   \n",
       "3  Athens     1896  Aquatics   Swimming  MALOKINIS, Ioannis  GRE    Men   \n",
       "4  Athens     1896  Aquatics   Swimming  CHASAPIS, Spiridon  GRE    Men   \n",
       "\n",
       "                        Event Event_gender   Medal  \n",
       "0              100m freestyle            M    Gold  \n",
       "1              100m freestyle            M  Silver  \n",
       "2  100m freestyle for sailors            M  Bronze  \n",
       "3  100m freestyle for sailors            M    Gold  \n",
       "4  100m freestyle for sailors            M  Silver  "
      ]
     },
     "execution_count": 15,
     "metadata": {},
     "output_type": "execute_result"
    }
   ],
   "source": [
    "x.head()"
   ]
  },
  {
   "cell_type": "code",
   "execution_count": 16,
   "metadata": {
    "collapsed": false
   },
   "outputs": [
    {
     "data": {
      "text/plain": [
       "(29216, 10)"
      ]
     },
     "execution_count": 16,
     "metadata": {},
     "output_type": "execute_result"
    }
   ],
   "source": [
    "x.shape"
   ]
  },
  {
   "cell_type": "code",
   "execution_count": 17,
   "metadata": {
    "collapsed": false
   },
   "outputs": [
    {
     "name": "stdout",
     "output_type": "stream",
     "text": [
      "<class 'pandas.core.frame.DataFrame'>\n",
      "RangeIndex: 29216 entries, 0 to 29215\n",
      "Data columns (total 10 columns):\n",
      "City            29216 non-null object\n",
      "Edition         29216 non-null int64\n",
      "Sport           29216 non-null object\n",
      "Discipline      29216 non-null object\n",
      "Athlete         29216 non-null object\n",
      "NOC             29216 non-null object\n",
      "Gender          29216 non-null object\n",
      "Event           29216 non-null object\n",
      "Event_gender    29216 non-null object\n",
      "Medal           29216 non-null object\n",
      "dtypes: int64(1), object(9)\n",
      "memory usage: 2.2+ MB\n"
     ]
    }
   ],
   "source": [
    "x.info()"
   ]
  },
  {
   "cell_type": "code",
   "execution_count": 21,
   "metadata": {
    "collapsed": false
   },
   "outputs": [
    {
     "data": {
      "text/plain": [
       "City            0\n",
       "Edition         0\n",
       "Sport           0\n",
       "Discipline      0\n",
       "Athlete         0\n",
       "NOC             0\n",
       "Gender          0\n",
       "Event           0\n",
       "Event_gender    0\n",
       "Medal           0\n",
       "dtype: int64"
      ]
     },
     "execution_count": 21,
     "metadata": {},
     "output_type": "execute_result"
    }
   ],
   "source": [
    "x.isnull().apply(sum, axis='rows')"
   ]
  },
  {
   "cell_type": "code",
   "execution_count": null,
   "metadata": {
    "collapsed": true
   },
   "outputs": [],
   "source": []
  }
 ],
 "metadata": {
  "anaconda-cloud": {},
  "kernelspec": {
   "display_name": "Python [conda root]",
   "language": "python",
   "name": "conda-root-py"
  },
  "language_info": {
   "codemirror_mode": {
    "name": "ipython",
    "version": 3
   },
   "file_extension": ".py",
   "mimetype": "text/x-python",
   "name": "python",
   "nbconvert_exporter": "python",
   "pygments_lexer": "ipython3",
   "version": "3.5.2"
  },
  "nbpresent": {
   "slides": {
    "01ac61f4-a9b7-4481-93d7-dbc29541301d": {
     "id": "01ac61f4-a9b7-4481-93d7-dbc29541301d",
     "prev": "3b4cbf73-5b59-45be-932d-701ce4d93649",
     "regions": {
      "e808adf0-3088-4dde-9cea-d4da5aa3b538": {
       "attrs": {
        "height": 0.8,
        "width": 0.8,
        "x": 0.1,
        "y": 0.1
       },
       "content": {
        "cell": "b1d61b41-ccb7-43e1-9ac6-c02895cd8125",
        "part": "whole"
       },
       "id": "e808adf0-3088-4dde-9cea-d4da5aa3b538"
      }
     }
    },
    "0775fd59-ae89-470e-b4e0-ae68228a1ad7": {
     "id": "0775fd59-ae89-470e-b4e0-ae68228a1ad7",
     "prev": "bb95bcfb-1207-44c0-a50e-dea61457baa3",
     "regions": {
      "45c377cc-9f28-4b7d-a6c8-c12e94836700": {
       "attrs": {
        "height": 0.8,
        "width": 0.8,
        "x": 0.1,
        "y": 0.1
       },
       "content": {
        "cell": "cfb3efbc-57a8-43fb-94a1-8b62d5a7b12d",
        "part": "whole"
       },
       "id": "45c377cc-9f28-4b7d-a6c8-c12e94836700"
      }
     }
    },
    "0a657e2e-f1c0-4734-97b5-093fd9938837": {
     "id": "0a657e2e-f1c0-4734-97b5-093fd9938837",
     "prev": "24b785e1-56da-45b3-ae1d-4fb1c27037a6",
     "regions": {
      "78fb8cab-722e-46f4-8af4-12d4bfd6006a": {
       "attrs": {
        "height": 0.8,
        "width": 0.8,
        "x": 0.1,
        "y": 0.1
       },
       "content": {
        "cell": "78f1b96b-9ce5-4684-b4e1-15346e3ec81b",
        "part": "whole"
       },
       "id": "78fb8cab-722e-46f4-8af4-12d4bfd6006a"
      }
     }
    },
    "0aaed989-5ac1-4c3a-a851-8d51bc5bc596": {
     "id": "0aaed989-5ac1-4c3a-a851-8d51bc5bc596",
     "prev": "53368ea5-955a-4061-a24e-e3da447f5e1c",
     "regions": {
      "be17446c-1926-44ab-97a3-fbc2d3a5ec1b": {
       "attrs": {
        "height": 0.8,
        "width": 0.8,
        "x": 0.1,
        "y": 0.1
       },
       "content": {
        "cell": "67330b41-dbfa-4d53-9e98-7bf35c9c7af1",
        "part": "whole"
       },
       "id": "be17446c-1926-44ab-97a3-fbc2d3a5ec1b"
      }
     }
    },
    "0aec218b-7dce-4177-96ff-6f734a3fae23": {
     "id": "0aec218b-7dce-4177-96ff-6f734a3fae23",
     "prev": "b1c6b287-4dc7-4b10-8d1f-c1af4e77ff81",
     "regions": {
      "37d9cacb-2e6c-4645-a635-9a54a2e3d9a4": {
       "attrs": {
        "height": 0.8,
        "width": 0.8,
        "x": 0.1,
        "y": 0.1
       },
       "content": {
        "cell": "99411494-0c20-4ffd-86ba-148db961b29e",
        "part": "whole"
       },
       "id": "37d9cacb-2e6c-4645-a635-9a54a2e3d9a4"
      }
     }
    },
    "134ddeb8-5f0a-4d0c-9dc1-cdc2fc9e8c70": {
     "id": "134ddeb8-5f0a-4d0c-9dc1-cdc2fc9e8c70",
     "prev": "dd70aaa5-ef68-4a80-a8ac-e4e54e38638a",
     "regions": {
      "8919de66-ea1b-40fb-8924-ab9262946685": {
       "attrs": {
        "height": 0.8,
        "width": 0.8,
        "x": 0.1,
        "y": 0.1
       },
       "content": {
        "cell": "73656e1b-7fda-4d99-9ea0-dee8d808a908",
        "part": "whole"
       },
       "id": "8919de66-ea1b-40fb-8924-ab9262946685"
      }
     }
    },
    "140efcb6-9375-4d43-8476-c92181884b1e": {
     "id": "140efcb6-9375-4d43-8476-c92181884b1e",
     "prev": "2edd3459-13ec-4718-955b-8a01a90db0a8",
     "regions": {
      "a86f436c-fb14-4e87-9c98-d944b633f0ad": {
       "attrs": {
        "height": 0.8,
        "width": 0.8,
        "x": 0.1,
        "y": 0.1
       },
       "content": {
        "cell": "653dfd21-8939-4ff5-89e1-28122b24e15d",
        "part": "whole"
       },
       "id": "a86f436c-fb14-4e87-9c98-d944b633f0ad"
      }
     }
    },
    "14caca7f-72a2-4057-8267-d3f534741cc1": {
     "id": "14caca7f-72a2-4057-8267-d3f534741cc1",
     "prev": "901a8c80-3735-42f4-9324-71b6547a22b8",
     "regions": {
      "120edf0e-c043-490d-b61e-171bd5bfa497": {
       "attrs": {
        "height": 0.8,
        "width": 0.8,
        "x": 0.1,
        "y": 0.1
       },
       "content": {
        "cell": "1c737f4e-55f0-4f44-89d4-611c78c461e8",
        "part": "whole"
       },
       "id": "120edf0e-c043-490d-b61e-171bd5bfa497"
      }
     }
    },
    "17cc3273-651e-4c15-a7b4-65a1584acaaf": {
     "id": "17cc3273-651e-4c15-a7b4-65a1584acaaf",
     "prev": "f9a50efe-e3b7-4747-8f8a-4c694514fbc1",
     "regions": {
      "fab61451-b3a1-419d-b53a-e0b72d4de869": {
       "attrs": {
        "height": 0.8,
        "width": 0.8,
        "x": 0.1,
        "y": 0.1
       },
       "content": {
        "cell": "cf536185-33fa-4949-bccb-167ab623a9dd",
        "part": "whole"
       },
       "id": "fab61451-b3a1-419d-b53a-e0b72d4de869"
      }
     }
    },
    "18ae96e8-d1bc-4a27-99a2-cf35446d4536": {
     "id": "18ae96e8-d1bc-4a27-99a2-cf35446d4536",
     "prev": "dccd1d53-f7df-4f63-bc86-88e945ab4ca4",
     "regions": {
      "41480cec-a13d-4485-aa28-60e3bae78e66": {
       "attrs": {
        "height": 0.8,
        "width": 0.8,
        "x": 0.1,
        "y": 0.1
       },
       "content": {
        "cell": "1741209f-cf4f-498f-a905-b41d07800c69",
        "part": "whole"
       },
       "id": "41480cec-a13d-4485-aa28-60e3bae78e66"
      }
     }
    },
    "1962a102-efbd-45de-8d23-c78586d35092": {
     "id": "1962a102-efbd-45de-8d23-c78586d35092",
     "prev": "8c6a5428-62a7-4573-a307-095e69bffdb0",
     "regions": {
      "d87dd84f-8e58-4b6c-87ee-b226e7bffd08": {
       "attrs": {
        "height": 0.8,
        "width": 0.8,
        "x": 0.1,
        "y": 0.1
       },
       "content": {
        "cell": "b166eba1-6c91-4487-9eb5-851cddad7629",
        "part": "whole"
       },
       "id": "d87dd84f-8e58-4b6c-87ee-b226e7bffd08"
      }
     }
    },
    "1a8a0493-fdb5-4acd-b60f-8f7470535235": {
     "id": "1a8a0493-fdb5-4acd-b60f-8f7470535235",
     "prev": "bd5e9955-7020-48e8-b949-f12ef0d60b02",
     "regions": {
      "f4eea545-3cdb-47d0-aa55-2a32ccc49e53": {
       "attrs": {
        "height": 0.8,
        "width": 0.8,
        "x": 0.1,
        "y": 0.1
       },
       "content": {
        "cell": "f8863bc5-64ec-4bee-a26b-97aec7cb27a3",
        "part": "whole"
       },
       "id": "f4eea545-3cdb-47d0-aa55-2a32ccc49e53"
      }
     }
    },
    "1ac4ec9a-5b4f-4715-bb62-2fdbb2108694": {
     "id": "1ac4ec9a-5b4f-4715-bb62-2fdbb2108694",
     "prev": "83fd0d01-d65b-4fc7-a602-71a30cc5088c",
     "regions": {
      "8aa632ca-91d2-4f34-9f2a-462ff9bc4530": {
       "attrs": {
        "height": 0.8,
        "width": 0.8,
        "x": 0.1,
        "y": 0.1
       },
       "content": {
        "cell": "91423587-d768-4f91-b85f-15a9830205d8",
        "part": "whole"
       },
       "id": "8aa632ca-91d2-4f34-9f2a-462ff9bc4530"
      }
     }
    },
    "1bd433e8-dd43-45c3-9bbe-bcc84ce6868a": {
     "id": "1bd433e8-dd43-45c3-9bbe-bcc84ce6868a",
     "prev": "cf78021e-d241-4a8e-8525-0f2e594d30e6",
     "regions": {
      "ac37c9ac-14ac-42f3-ba56-2130f1ee3d09": {
       "attrs": {
        "height": 0.8,
        "width": 0.8,
        "x": 0.1,
        "y": 0.1
       },
       "content": {
        "cell": "40121674-9eb7-4636-9e8f-f078b8be9213",
        "part": "whole"
       },
       "id": "ac37c9ac-14ac-42f3-ba56-2130f1ee3d09"
      }
     }
    },
    "1d90543d-b5c8-4853-acbe-3ebb9d518c61": {
     "id": "1d90543d-b5c8-4853-acbe-3ebb9d518c61",
     "prev": "81372d07-3e32-49cb-b896-536afe0bdc82",
     "regions": {
      "5e11c030-3024-4503-bdb8-5d24925af0fc": {
       "attrs": {
        "height": 0.8,
        "width": 0.8,
        "x": 0.1,
        "y": 0.1
       },
       "content": {
        "cell": "37d5dea3-f393-4796-9b34-2ecb91b0bd83",
        "part": "whole"
       },
       "id": "5e11c030-3024-4503-bdb8-5d24925af0fc"
      }
     }
    },
    "1dd78cf4-3c7a-4392-ab7c-caec8aee9da0": {
     "id": "1dd78cf4-3c7a-4392-ab7c-caec8aee9da0",
     "prev": "dcc4441d-2f74-4803-8b11-1b753da077b6",
     "regions": {
      "fbf99aa0-4381-442d-9111-026041c8c3c3": {
       "attrs": {
        "height": 0.8,
        "width": 0.8,
        "x": 0.1,
        "y": 0.1
       },
       "content": {
        "cell": "1935dd70-6ede-4b13-9863-14e838a09a64",
        "part": "whole"
       },
       "id": "fbf99aa0-4381-442d-9111-026041c8c3c3"
      }
     }
    },
    "205a729d-ace0-40f4-b604-cbae09603341": {
     "id": "205a729d-ace0-40f4-b604-cbae09603341",
     "prev": "b7fe8b57-4648-4dd9-abbd-bf558c10dba2",
     "regions": {
      "f7ec8f64-4219-4918-b95d-a14431bfe533": {
       "attrs": {
        "height": 0.8,
        "width": 0.8,
        "x": 0.1,
        "y": 0.1
       },
       "content": {
        "cell": "39c2e37b-bf58-40c2-9a52-81b6f81c0813",
        "part": "whole"
       },
       "id": "f7ec8f64-4219-4918-b95d-a14431bfe533"
      }
     }
    },
    "207c21d8-4d55-42c0-9adf-e6a033dd4d30": {
     "id": "207c21d8-4d55-42c0-9adf-e6a033dd4d30",
     "prev": "ec90e085-81ea-4072-8c9b-a6c8cbdb30b6",
     "regions": {
      "8f90ae39-c684-4dcf-9319-5e785f6c3a88": {
       "attrs": {
        "height": 0.8,
        "width": 0.8,
        "x": 0.1,
        "y": 0.1
       },
       "content": {
        "cell": "4de9030f-4947-4b9f-85f7-32cdede0d2fa",
        "part": "whole"
       },
       "id": "8f90ae39-c684-4dcf-9319-5e785f6c3a88"
      }
     }
    },
    "20d2afe3-7c33-431a-82db-977bba2bb056": {
     "id": "20d2afe3-7c33-431a-82db-977bba2bb056",
     "prev": "18ae96e8-d1bc-4a27-99a2-cf35446d4536",
     "regions": {
      "01dc0082-2cd8-4a06-b439-544d3fef3997": {
       "attrs": {
        "height": 0.8,
        "width": 0.8,
        "x": 0.1,
        "y": 0.1
       },
       "content": {
        "cell": "94e5e6de-92c8-4c85-aec5-62167acd8e7d",
        "part": "whole"
       },
       "id": "01dc0082-2cd8-4a06-b439-544d3fef3997"
      }
     }
    },
    "24528376-6c48-4d57-8475-806dabcdb97c": {
     "id": "24528376-6c48-4d57-8475-806dabcdb97c",
     "prev": "01ac61f4-a9b7-4481-93d7-dbc29541301d",
     "regions": {
      "70ad4fe6-38a2-482e-aad5-8249d60690e2": {
       "attrs": {
        "height": 0.8,
        "width": 0.8,
        "x": 0.1,
        "y": 0.1
       },
       "content": {
        "cell": "da937308-9e45-44db-b737-1cea76a8a4b0",
        "part": "whole"
       },
       "id": "70ad4fe6-38a2-482e-aad5-8249d60690e2"
      }
     }
    },
    "24b785e1-56da-45b3-ae1d-4fb1c27037a6": {
     "id": "24b785e1-56da-45b3-ae1d-4fb1c27037a6",
     "prev": "61cf1358-e8a9-40cc-a0b4-3b538c59ca65",
     "regions": {
      "35c89f82-6d65-41a9-83e5-b1f778291c4d": {
       "attrs": {
        "height": 0.8,
        "width": 0.8,
        "x": 0.1,
        "y": 0.1
       },
       "content": {
        "cell": "4583f37f-7c68-4bf9-afbe-4eb483f67eda",
        "part": "whole"
       },
       "id": "35c89f82-6d65-41a9-83e5-b1f778291c4d"
      }
     }
    },
    "27b45a2c-2f48-4c26-9536-345283813e78": {
     "id": "27b45a2c-2f48-4c26-9536-345283813e78",
     "prev": "73234561-21bb-40b7-a04b-a1a82d0d5967",
     "regions": {
      "940e38ce-726b-48d0-a3d1-0a5c18a0a50a": {
       "attrs": {
        "height": 0.8,
        "width": 0.8,
        "x": 0.1,
        "y": 0.1
       },
       "content": {
        "cell": "b65e16e0-e04a-4d0e-a3bf-891790816f08",
        "part": "whole"
       },
       "id": "940e38ce-726b-48d0-a3d1-0a5c18a0a50a"
      }
     }
    },
    "27f6edc5-c087-4180-88c2-2f29a3989534": {
     "id": "27f6edc5-c087-4180-88c2-2f29a3989534",
     "prev": "8c428f90-16ad-43b2-9860-60e08fefbe56",
     "regions": {
      "9a8a68b3-8946-45f0-8008-7dd3c1df46c5": {
       "attrs": {
        "height": 0.8,
        "width": 0.8,
        "x": 0.1,
        "y": 0.1
       },
       "content": {
        "cell": "5555d03c-f603-41a1-8420-11aa94174438",
        "part": "whole"
       },
       "id": "9a8a68b3-8946-45f0-8008-7dd3c1df46c5"
      }
     }
    },
    "2a19e2bd-bee7-4521-b7c7-19ccacfb58b3": {
     "id": "2a19e2bd-bee7-4521-b7c7-19ccacfb58b3",
     "prev": "99baaf9a-2ee9-4327-bfcd-c5fce8d820d2",
     "regions": {
      "98355a82-9e3f-41a4-a171-894b3378d2fe": {
       "attrs": {
        "height": 0.8,
        "width": 0.8,
        "x": 0.1,
        "y": 0.1
       },
       "content": {
        "cell": "6e0fd564-76bd-48c4-9554-d6f78979fdf4",
        "part": "whole"
       },
       "id": "98355a82-9e3f-41a4-a171-894b3378d2fe"
      }
     }
    },
    "2a81ef69-e276-4ca2-b2cf-b5cd18e1d846": {
     "id": "2a81ef69-e276-4ca2-b2cf-b5cd18e1d846",
     "prev": "0a657e2e-f1c0-4734-97b5-093fd9938837",
     "regions": {
      "2cd93f85-1b67-436b-ba31-88d0ee6c1007": {
       "attrs": {
        "height": 0.8,
        "width": 0.8,
        "x": 0.1,
        "y": 0.1
       },
       "content": {
        "cell": "fc94427b-3a09-4a11-a264-183d2524da6f",
        "part": "whole"
       },
       "id": "2cd93f85-1b67-436b-ba31-88d0ee6c1007"
      }
     }
    },
    "2a872223-758e-4d44-943b-ead89100a1e7": {
     "id": "2a872223-758e-4d44-943b-ead89100a1e7",
     "prev": "3c68d39b-7c72-4d62-823d-760c206fb941",
     "regions": {
      "e2b3f2ba-b227-4a82-b49c-4f343c1bd672": {
       "attrs": {
        "height": 0.8,
        "width": 0.8,
        "x": 0.1,
        "y": 0.1
       },
       "content": {
        "cell": "a2c3a23d-94e0-4ea2-be33-c07e681217b5",
        "part": "whole"
       },
       "id": "e2b3f2ba-b227-4a82-b49c-4f343c1bd672"
      }
     }
    },
    "2c6baa81-048b-44de-91ca-5e2a0f0092c7": {
     "id": "2c6baa81-048b-44de-91ca-5e2a0f0092c7",
     "prev": "17cc3273-651e-4c15-a7b4-65a1584acaaf",
     "regions": {
      "8e88d2c8-1ab5-4a0f-b867-d59a0442d38a": {
       "attrs": {
        "height": 0.8,
        "width": 0.8,
        "x": 0.1,
        "y": 0.1
       },
       "content": {
        "cell": "bd599723-e0ac-4f1e-a44b-156d729b5113",
        "part": "whole"
       },
       "id": "8e88d2c8-1ab5-4a0f-b867-d59a0442d38a"
      }
     }
    },
    "2edd3459-13ec-4718-955b-8a01a90db0a8": {
     "id": "2edd3459-13ec-4718-955b-8a01a90db0a8",
     "prev": "2a872223-758e-4d44-943b-ead89100a1e7",
     "regions": {
      "fece58d0-2cd5-48b9-a9e1-2c2f5e683b91": {
       "attrs": {
        "height": 0.8,
        "width": 0.8,
        "x": 0.1,
        "y": 0.1
       },
       "content": {
        "cell": "9bf6825d-ca3b-43b9-ac34-5eb6f18faed8",
        "part": "whole"
       },
       "id": "fece58d0-2cd5-48b9-a9e1-2c2f5e683b91"
      }
     }
    },
    "30c9fb89-712d-4ac0-aa59-2d706dc3a968": {
     "id": "30c9fb89-712d-4ac0-aa59-2d706dc3a968",
     "prev": "da3bf63d-9950-45af-ad37-1a138d099044",
     "regions": {
      "5ce75a92-7030-4c9a-a726-b6ba57ca29f9": {
       "attrs": {
        "height": 0.8,
        "width": 0.8,
        "x": 0.1,
        "y": 0.1
       },
       "content": {
        "cell": "ff1ea97c-418c-4d5b-9558-50731e6b8eda",
        "part": "whole"
       },
       "id": "5ce75a92-7030-4c9a-a726-b6ba57ca29f9"
      }
     }
    },
    "3102c47d-77dc-4626-8b0d-299f6b2fbf2f": {
     "id": "3102c47d-77dc-4626-8b0d-299f6b2fbf2f",
     "prev": "3452bdb5-269e-4f62-a1be-d56a61ae81fc",
     "regions": {
      "1bb9cfba-1170-4a8d-b0bf-77cc4e8a0b5b": {
       "attrs": {
        "height": 0.8,
        "width": 0.8,
        "x": 0.1,
        "y": 0.1
       },
       "content": {
        "cell": "6c280d82-6779-423c-837e-2b345d81bd14",
        "part": "whole"
       },
       "id": "1bb9cfba-1170-4a8d-b0bf-77cc4e8a0b5b"
      }
     }
    },
    "3452bdb5-269e-4f62-a1be-d56a61ae81fc": {
     "id": "3452bdb5-269e-4f62-a1be-d56a61ae81fc",
     "prev": "1962a102-efbd-45de-8d23-c78586d35092",
     "regions": {
      "275b9606-13a1-46a3-bdb5-6d3d7bfd1449": {
       "attrs": {
        "height": 0.8,
        "width": 0.8,
        "x": 0.1,
        "y": 0.1
       },
       "content": {
        "cell": "830aca5b-c1ec-4318-8765-e509919ec6ef",
        "part": "whole"
       },
       "id": "275b9606-13a1-46a3-bdb5-6d3d7bfd1449"
      }
     }
    },
    "360ca969-1aa0-4d81-a934-5aac618adaf2": {
     "id": "360ca969-1aa0-4d81-a934-5aac618adaf2",
     "prev": "e8f30b96-aa38-455d-9c10-b4f1ef71dbca",
     "regions": {
      "491f4f6a-2d9d-492d-ab87-80b2d3ae18ba": {
       "attrs": {
        "height": 0.8,
        "width": 0.8,
        "x": 0.1,
        "y": 0.1
       },
       "content": {
        "cell": "9ed141ce-8daf-4c25-a81f-9281463e5044",
        "part": "whole"
       },
       "id": "491f4f6a-2d9d-492d-ab87-80b2d3ae18ba"
      }
     }
    },
    "3b4cbf73-5b59-45be-932d-701ce4d93649": {
     "id": "3b4cbf73-5b59-45be-932d-701ce4d93649",
     "prev": "8f5cbcb9-778f-498d-b20a-0dcaf09cb919",
     "regions": {
      "79961bf7-06a0-4c82-9446-bac86678d91c": {
       "attrs": {
        "height": 0.8,
        "width": 0.8,
        "x": 0.1,
        "y": 0.1
       },
       "content": {
        "cell": "010395d8-0620-41fc-8b9e-9370eef0b004",
        "part": "whole"
       },
       "id": "79961bf7-06a0-4c82-9446-bac86678d91c"
      }
     }
    },
    "3c68d39b-7c72-4d62-823d-760c206fb941": {
     "id": "3c68d39b-7c72-4d62-823d-760c206fb941",
     "prev": "ee45d25f-a565-4f85-b7ce-bc7f06227eb2",
     "regions": {
      "2a312af3-2ca0-4ebc-95cc-eacb6e849fed": {
       "attrs": {
        "height": 0.8,
        "width": 0.8,
        "x": 0.1,
        "y": 0.1
       },
       "content": {
        "cell": "cd5cee2f-7a7d-4919-9060-beeb91385307",
        "part": "whole"
       },
       "id": "2a312af3-2ca0-4ebc-95cc-eacb6e849fed"
      }
     }
    },
    "3ce160a3-8fcf-4f33-b41c-d78854b8cc01": {
     "id": "3ce160a3-8fcf-4f33-b41c-d78854b8cc01",
     "prev": "f551e9f7-707c-4c8d-b941-878e3bfd2daa",
     "regions": {
      "7356878c-9504-4c0a-a7d7-304515f3b9d8": {
       "attrs": {
        "height": 0.8,
        "width": 0.8,
        "x": 0.1,
        "y": 0.1
       },
       "content": {
        "cell": "2eba0037-c2a2-4d61-a813-bb4147b22e4a",
        "part": "whole"
       },
       "id": "7356878c-9504-4c0a-a7d7-304515f3b9d8"
      }
     }
    },
    "42bb0b3b-fe94-4239-a8f6-3bcde09ac593": {
     "id": "42bb0b3b-fe94-4239-a8f6-3bcde09ac593",
     "prev": "799abc75-202a-401d-81dc-cf2bfe7ef28a",
     "regions": {
      "89d70259-627a-4bab-8f0e-0c100dc36019": {
       "attrs": {
        "height": 0.8,
        "width": 0.8,
        "x": 0.1,
        "y": 0.1
       },
       "content": {
        "cell": "8aa6e254-64db-4eb6-8f73-c26f25528acb",
        "part": "whole"
       },
       "id": "89d70259-627a-4bab-8f0e-0c100dc36019"
      }
     }
    },
    "4eeabe15-26ab-4871-b710-38e1e6f5dbbe": {
     "id": "4eeabe15-26ab-4871-b710-38e1e6f5dbbe",
     "prev": "ee6f88b1-d488-4c1c-a9a7-0d1596e359d0",
     "regions": {
      "71a1ccd7-7c99-4f7a-88bd-99c56254277f": {
       "attrs": {
        "height": 0.8,
        "width": 0.8,
        "x": 0.1,
        "y": 0.1
       },
       "content": {
        "cell": "9b7a61ab-293c-490a-b0b2-50065f219691",
        "part": "whole"
       },
       "id": "71a1ccd7-7c99-4f7a-88bd-99c56254277f"
      }
     }
    },
    "526ba296-a4a2-466e-802b-e3bf61012580": {
     "id": "526ba296-a4a2-466e-802b-e3bf61012580",
     "prev": "b750fe36-794f-42ae-8824-debf8940e0d9",
     "regions": {
      "6c83d547-5fb4-4c5b-b4ac-1a13804337d6": {
       "attrs": {
        "height": 0.8,
        "width": 0.8,
        "x": 0.1,
        "y": 0.1
       },
       "content": {
        "cell": "aab54162-9627-4678-a916-c5b123a73b0c",
        "part": "whole"
       },
       "id": "6c83d547-5fb4-4c5b-b4ac-1a13804337d6"
      }
     }
    },
    "53368ea5-955a-4061-a24e-e3da447f5e1c": {
     "id": "53368ea5-955a-4061-a24e-e3da447f5e1c",
     "prev": "27b45a2c-2f48-4c26-9536-345283813e78",
     "regions": {
      "79d789d0-a8c6-4e36-a39f-9fa44191706e": {
       "attrs": {
        "height": 0.8,
        "width": 0.8,
        "x": 0.1,
        "y": 0.1
       },
       "content": {
        "cell": "f9ec90db-2ea4-4e21-894a-881a002988aa",
        "part": "whole"
       },
       "id": "79d789d0-a8c6-4e36-a39f-9fa44191706e"
      }
     }
    },
    "55ad18d2-9f6a-45f5-9c78-fdc16bd067c1": {
     "id": "55ad18d2-9f6a-45f5-9c78-fdc16bd067c1",
     "prev": "724a52ca-1364-42c2-9cf0-bc74f9f14180",
     "regions": {
      "eb551724-b0b3-47d6-bc7e-76e0a797b2fb": {
       "attrs": {
        "height": 0.8,
        "width": 0.8,
        "x": 0.1,
        "y": 0.1
       },
       "content": {
        "cell": "13036820-ea0c-4b15-b066-6fb615193f6c",
        "part": "whole"
       },
       "id": "eb551724-b0b3-47d6-bc7e-76e0a797b2fb"
      }
     }
    },
    "57e4a33d-4036-436c-85f4-a08dccc4267f": {
     "id": "57e4a33d-4036-436c-85f4-a08dccc4267f",
     "prev": "2a81ef69-e276-4ca2-b2cf-b5cd18e1d846",
     "regions": {
      "a5e6e4ef-40a4-4737-8804-5197e044258b": {
       "attrs": {
        "height": 0.8,
        "width": 0.8,
        "x": 0.1,
        "y": 0.1
       },
       "content": {
        "cell": "de0e1417-46b9-49a3-9f7c-95ef95aaa2b1",
        "part": "whole"
       },
       "id": "a5e6e4ef-40a4-4737-8804-5197e044258b"
      }
     }
    },
    "5b832f0b-1787-41d9-9820-1eabd7562080": {
     "id": "5b832f0b-1787-41d9-9820-1eabd7562080",
     "prev": "1ac4ec9a-5b4f-4715-bb62-2fdbb2108694",
     "regions": {
      "7ba2ecb5-8f11-4db1-a330-469ccbf81f71": {
       "attrs": {
        "height": 0.8,
        "width": 0.8,
        "x": 0.1,
        "y": 0.1
       },
       "content": {
        "cell": "e2f50bee-b87d-4015-9c18-d2bafb3b298c",
        "part": "whole"
       },
       "id": "7ba2ecb5-8f11-4db1-a330-469ccbf81f71"
      }
     }
    },
    "61cf1358-e8a9-40cc-a0b4-3b538c59ca65": {
     "id": "61cf1358-e8a9-40cc-a0b4-3b538c59ca65",
     "prev": "83fe6cf4-c0d3-4d9e-8365-67df4a490377",
     "regions": {
      "87378aee-aedb-4136-a1b9-47f78ff8e316": {
       "attrs": {
        "height": 0.8,
        "width": 0.8,
        "x": 0.1,
        "y": 0.1
       },
       "content": {
        "cell": "ff0ea831-e043-42a8-a397-39f68aac09e0",
        "part": "whole"
       },
       "id": "87378aee-aedb-4136-a1b9-47f78ff8e316"
      }
     }
    },
    "639c159f-6ae3-4cef-8464-5c6dde9d8822": {
     "id": "639c159f-6ae3-4cef-8464-5c6dde9d8822",
     "prev": "526ba296-a4a2-466e-802b-e3bf61012580",
     "regions": {
      "69fb9ddf-a0d7-4b32-a2a9-d8b2dcbdf7d0": {
       "attrs": {
        "height": 0.8,
        "width": 0.8,
        "x": 0.1,
        "y": 0.1
       },
       "content": {
        "cell": "a3111e49-5b4d-419e-a6e5-3159bcdfb822",
        "part": "whole"
       },
       "id": "69fb9ddf-a0d7-4b32-a2a9-d8b2dcbdf7d0"
      }
     }
    },
    "6f6c480d-2660-46dd-8ad6-69a74cb86fd4": {
     "id": "6f6c480d-2660-46dd-8ad6-69a74cb86fd4",
     "prev": "3102c47d-77dc-4626-8b0d-299f6b2fbf2f",
     "regions": {
      "249f75dd-0eb8-4581-84e1-eee874655b5b": {
       "attrs": {
        "height": 0.8,
        "width": 0.8,
        "x": 0.1,
        "y": 0.1
       },
       "content": {
        "cell": "54eecba7-02f2-4059-ba5a-31d46044a531",
        "part": "whole"
       },
       "id": "249f75dd-0eb8-4581-84e1-eee874655b5b"
      }
     }
    },
    "707c4a1a-b60f-4c23-bca2-eef9348425b3": {
     "id": "707c4a1a-b60f-4c23-bca2-eef9348425b3",
     "prev": "639c159f-6ae3-4cef-8464-5c6dde9d8822",
     "regions": {
      "d72f6de0-9716-4169-8c5d-a786dc265f29": {
       "attrs": {
        "height": 0.8,
        "width": 0.8,
        "x": 0.1,
        "y": 0.1
       },
       "content": {
        "cell": "52812b9b-4200-41ae-9335-4f35a7a97dfd",
        "part": "whole"
       },
       "id": "d72f6de0-9716-4169-8c5d-a786dc265f29"
      }
     }
    },
    "724a52ca-1364-42c2-9cf0-bc74f9f14180": {
     "id": "724a52ca-1364-42c2-9cf0-bc74f9f14180",
     "prev": "9e3f8e99-6a88-4f6b-aeba-da8cc51896a3",
     "regions": {
      "e3c9dee0-00da-463d-b7e4-6445ed42c796": {
       "attrs": {
        "height": 0.8,
        "width": 0.8,
        "x": 0.1,
        "y": 0.1
       },
       "content": {
        "cell": "9bd17b46-75f9-4622-96b8-5eecaf5e2d1e",
        "part": "whole"
       },
       "id": "e3c9dee0-00da-463d-b7e4-6445ed42c796"
      }
     }
    },
    "73234561-21bb-40b7-a04b-a1a82d0d5967": {
     "id": "73234561-21bb-40b7-a04b-a1a82d0d5967",
     "prev": null,
     "regions": {
      "a7affff4-7185-42b5-91e3-4332ee866e99": {
       "attrs": {
        "height": 0.8,
        "width": 0.8,
        "x": 0.1,
        "y": 0.1
       },
       "content": {
        "cell": "b1d40bec-39cc-4f67-bb26-9dd74a0a4f58",
        "part": "whole"
       },
       "id": "a7affff4-7185-42b5-91e3-4332ee866e99"
      }
     }
    },
    "73a4747f-b61d-4178-93d0-14999a6a824c": {
     "id": "73a4747f-b61d-4178-93d0-14999a6a824c",
     "prev": "1d90543d-b5c8-4853-acbe-3ebb9d518c61",
     "regions": {
      "af65e43a-52bd-47a2-9250-fe2c033368f6": {
       "attrs": {
        "height": 0.8,
        "width": 0.8,
        "x": 0.1,
        "y": 0.1
       },
       "content": {
        "cell": "6d65f322-5d1e-40a6-9071-f48f43a7f0a0",
        "part": "whole"
       },
       "id": "af65e43a-52bd-47a2-9250-fe2c033368f6"
      }
     }
    },
    "73ff332e-fa31-4dc9-857f-dcd06e51e732": {
     "id": "73ff332e-fa31-4dc9-857f-dcd06e51e732",
     "prev": "20d2afe3-7c33-431a-82db-977bba2bb056",
     "regions": {
      "9509d434-2b33-4534-a45a-7857f525d244": {
       "attrs": {
        "height": 0.8,
        "width": 0.8,
        "x": 0.1,
        "y": 0.1
       },
       "content": {
        "cell": "dd8183e5-6dc2-4eb2-ae59-ff2d2773e596",
        "part": "whole"
       },
       "id": "9509d434-2b33-4534-a45a-7857f525d244"
      }
     }
    },
    "75d4d19e-5a7f-4071-ada6-68358db5d1a0": {
     "id": "75d4d19e-5a7f-4071-ada6-68358db5d1a0",
     "prev": "8d8ec555-87c2-4e97-b528-38ded74027a5",
     "regions": {
      "2d62fe3b-1663-4cf2-9c57-e904d9a0a8c4": {
       "attrs": {
        "height": 0.8,
        "width": 0.8,
        "x": 0.1,
        "y": 0.1
       },
       "content": {
        "cell": "9977b8cd-5b69-4318-a357-97243981fb2a",
        "part": "whole"
       },
       "id": "2d62fe3b-1663-4cf2-9c57-e904d9a0a8c4"
      }
     }
    },
    "797550dd-2010-4611-a33b-429d88873bae": {
     "id": "797550dd-2010-4611-a33b-429d88873bae",
     "prev": "c9abcb74-986b-4e0b-a533-d12701cb2e48",
     "regions": {
      "b181560b-c3ea-405d-ada5-f62bf5b2b8d4": {
       "attrs": {
        "height": 0.8,
        "width": 0.8,
        "x": 0.1,
        "y": 0.1
       },
       "content": {
        "cell": "0b8f26b7-b923-4f49-8c3b-92b66f10ba2f",
        "part": "whole"
       },
       "id": "b181560b-c3ea-405d-ada5-f62bf5b2b8d4"
      }
     }
    },
    "799abc75-202a-401d-81dc-cf2bfe7ef28a": {
     "id": "799abc75-202a-401d-81dc-cf2bfe7ef28a",
     "prev": "8e2fdc72-36a5-475c-b27e-5bc43fad5610",
     "regions": {
      "db3c0285-9862-474e-a096-289e4ca32c1c": {
       "attrs": {
        "height": 0.8,
        "width": 0.8,
        "x": 0.1,
        "y": 0.1
       },
       "content": {
        "cell": "0124333b-1822-4e49-b35f-7891e1a9016d",
        "part": "whole"
       },
       "id": "db3c0285-9862-474e-a096-289e4ca32c1c"
      }
     }
    },
    "7e3fb33a-d5f2-4ac5-96a7-0cfdbf3bbddf": {
     "id": "7e3fb33a-d5f2-4ac5-96a7-0cfdbf3bbddf",
     "prev": "88382582-872b-4764-b210-f8b71b58612b",
     "regions": {
      "770804df-32c4-4997-930c-25e531a7cb10": {
       "attrs": {
        "height": 0.8,
        "width": 0.8,
        "x": 0.1,
        "y": 0.1
       },
       "content": {
        "cell": "8a1808aa-2517-42e7-8fb3-c6c6d013f075",
        "part": "whole"
       },
       "id": "770804df-32c4-4997-930c-25e531a7cb10"
      }
     }
    },
    "81372d07-3e32-49cb-b896-536afe0bdc82": {
     "id": "81372d07-3e32-49cb-b896-536afe0bdc82",
     "prev": "f0110d30-03cb-486c-bc6c-dee5fddc932b",
     "regions": {
      "55f36d65-d774-4375-81cc-1b407d517149": {
       "attrs": {
        "height": 0.8,
        "width": 0.8,
        "x": 0.1,
        "y": 0.1
       },
       "content": {
        "cell": "c1ef0891-6d63-4cac-aca7-6ec832d288fc",
        "part": "whole"
       },
       "id": "55f36d65-d774-4375-81cc-1b407d517149"
      }
     }
    },
    "833b0b62-eefd-4390-9c0d-3e860e657ee6": {
     "id": "833b0b62-eefd-4390-9c0d-3e860e657ee6",
     "prev": "57e4a33d-4036-436c-85f4-a08dccc4267f",
     "regions": {
      "1548c4e1-0535-4bd1-bd0c-df7c5af03930": {
       "attrs": {
        "height": 0.8,
        "width": 0.8,
        "x": 0.1,
        "y": 0.1
       },
       "content": {
        "cell": "1760d211-fd69-45dd-9961-dd9685ef288d",
        "part": "whole"
       },
       "id": "1548c4e1-0535-4bd1-bd0c-df7c5af03930"
      }
     }
    },
    "83fd0d01-d65b-4fc7-a602-71a30cc5088c": {
     "id": "83fd0d01-d65b-4fc7-a602-71a30cc5088c",
     "prev": "da74431d-1e09-496f-bdcd-f69d295e446d",
     "regions": {
      "ad8d6a73-f890-4e45-8c45-da0f0de6975a": {
       "attrs": {
        "height": 0.8,
        "width": 0.8,
        "x": 0.1,
        "y": 0.1
       },
       "content": {
        "cell": "9956beee-1a34-4407-8a1a-6587c8e48fa5",
        "part": "whole"
       },
       "id": "ad8d6a73-f890-4e45-8c45-da0f0de6975a"
      }
     }
    },
    "83fe6cf4-c0d3-4d9e-8365-67df4a490377": {
     "id": "83fe6cf4-c0d3-4d9e-8365-67df4a490377",
     "prev": "6f6c480d-2660-46dd-8ad6-69a74cb86fd4",
     "regions": {
      "4c4bad10-6422-4c58-b42c-5db0c1cbc16a": {
       "attrs": {
        "height": 0.8,
        "width": 0.8,
        "x": 0.1,
        "y": 0.1
       },
       "content": {
        "cell": "7151e2b9-a67e-4011-8abf-ac2e8710da6f",
        "part": "whole"
       },
       "id": "4c4bad10-6422-4c58-b42c-5db0c1cbc16a"
      }
     }
    },
    "88382582-872b-4764-b210-f8b71b58612b": {
     "id": "88382582-872b-4764-b210-f8b71b58612b",
     "prev": "fa17b069-c1c7-4741-b54a-4ea9df7bdb2a",
     "regions": {
      "f56b28c6-0910-45c0-9737-0c11be242e13": {
       "attrs": {
        "height": 0.8,
        "width": 0.8,
        "x": 0.1,
        "y": 0.1
       },
       "content": {
        "cell": "2244b52c-27ed-4e94-97c6-762bfdc1018b",
        "part": "whole"
       },
       "id": "f56b28c6-0910-45c0-9737-0c11be242e13"
      }
     }
    },
    "8c428f90-16ad-43b2-9860-60e08fefbe56": {
     "id": "8c428f90-16ad-43b2-9860-60e08fefbe56",
     "prev": "f5623253-bba8-4292-a591-94f05dc68411",
     "regions": {
      "b206611c-b4fe-417d-9c1c-8d00d75f7d38": {
       "attrs": {
        "height": 0.8,
        "width": 0.8,
        "x": 0.1,
        "y": 0.1
       },
       "content": {
        "cell": "29aae2e0-55b8-4588-aeb1-7d906e067c2d",
        "part": "whole"
       },
       "id": "b206611c-b4fe-417d-9c1c-8d00d75f7d38"
      }
     }
    },
    "8c6a5428-62a7-4573-a307-095e69bffdb0": {
     "id": "8c6a5428-62a7-4573-a307-095e69bffdb0",
     "prev": "707c4a1a-b60f-4c23-bca2-eef9348425b3",
     "regions": {
      "4c62a3f1-066c-4fc8-8f53-ee223e069f5f": {
       "attrs": {
        "height": 0.8,
        "width": 0.8,
        "x": 0.1,
        "y": 0.1
       },
       "content": {
        "cell": "1d7e7487-8b63-458a-89be-d93616115141",
        "part": "whole"
       },
       "id": "4c62a3f1-066c-4fc8-8f53-ee223e069f5f"
      }
     }
    },
    "8d8ec555-87c2-4e97-b528-38ded74027a5": {
     "id": "8d8ec555-87c2-4e97-b528-38ded74027a5",
     "prev": "140efcb6-9375-4d43-8476-c92181884b1e",
     "regions": {
      "80b938fb-4242-4121-aeeb-6bcd75296d0c": {
       "attrs": {
        "height": 0.8,
        "width": 0.8,
        "x": 0.1,
        "y": 0.1
       },
       "content": {
        "cell": "b5b29eb5-7cbe-4567-84b4-9d05c2eaa03f",
        "part": "whole"
       },
       "id": "80b938fb-4242-4121-aeeb-6bcd75296d0c"
      }
     }
    },
    "8e2fdc72-36a5-475c-b27e-5bc43fad5610": {
     "id": "8e2fdc72-36a5-475c-b27e-5bc43fad5610",
     "prev": "27f6edc5-c087-4180-88c2-2f29a3989534",
     "regions": {
      "bd8fb802-65f3-46cf-b4ba-6777ae2a0bc1": {
       "attrs": {
        "height": 0.8,
        "width": 0.8,
        "x": 0.1,
        "y": 0.1
       },
       "content": {
        "cell": "fff1ea90-6f18-4ef8-b740-f780fa00e1b6",
        "part": "whole"
       },
       "id": "bd8fb802-65f3-46cf-b4ba-6777ae2a0bc1"
      }
     }
    },
    "8f5cbcb9-778f-498d-b20a-0dcaf09cb919": {
     "id": "8f5cbcb9-778f-498d-b20a-0dcaf09cb919",
     "prev": "a9ed9657-621d-46bf-9b11-04eadae708ae",
     "regions": {
      "d375c7da-99dd-4cc4-99fe-f9a1007ccaa1": {
       "attrs": {
        "height": 0.8,
        "width": 0.8,
        "x": 0.1,
        "y": 0.1
       },
       "content": {
        "cell": "8161d5bc-52c2-42b4-85d9-a03d3de91bf2",
        "part": "whole"
       },
       "id": "d375c7da-99dd-4cc4-99fe-f9a1007ccaa1"
      }
     }
    },
    "901a8c80-3735-42f4-9324-71b6547a22b8": {
     "id": "901a8c80-3735-42f4-9324-71b6547a22b8",
     "prev": "2c6baa81-048b-44de-91ca-5e2a0f0092c7",
     "regions": {
      "275c5b7c-7332-4569-8d05-404611b5c6ec": {
       "attrs": {
        "height": 0.8,
        "width": 0.8,
        "x": 0.1,
        "y": 0.1
       },
       "content": {
        "cell": "9245409d-8a57-4d95-955b-1d38422c6839",
        "part": "whole"
       },
       "id": "275c5b7c-7332-4569-8d05-404611b5c6ec"
      }
     }
    },
    "91da2a5f-783d-4184-bb93-620bd7ff7f9b": {
     "id": "91da2a5f-783d-4184-bb93-620bd7ff7f9b",
     "prev": "0aec218b-7dce-4177-96ff-6f734a3fae23",
     "regions": {
      "5adb11a4-899f-48ab-a813-5dcb52e3f07f": {
       "attrs": {
        "height": 0.8,
        "width": 0.8,
        "x": 0.1,
        "y": 0.1
       },
       "content": {
        "cell": "6671aa8d-7aa0-4b8d-8565-ed0501ddb53d",
        "part": "whole"
       },
       "id": "5adb11a4-899f-48ab-a813-5dcb52e3f07f"
      }
     }
    },
    "92188a99-e9bc-415d-9f96-76542c660c03": {
     "id": "92188a99-e9bc-415d-9f96-76542c660c03",
     "prev": "30c9fb89-712d-4ac0-aa59-2d706dc3a968",
     "regions": {
      "15f801de-176b-4bcc-a7b5-51cb4d8db6ec": {
       "attrs": {
        "height": 0.8,
        "width": 0.8,
        "x": 0.1,
        "y": 0.1
       },
       "content": {
        "cell": "afda59c4-d638-4a01-8040-66b71a07350f",
        "part": "whole"
       },
       "id": "15f801de-176b-4bcc-a7b5-51cb4d8db6ec"
      }
     }
    },
    "9279c91b-88d6-40fc-8a7c-15454de8b41f": {
     "id": "9279c91b-88d6-40fc-8a7c-15454de8b41f",
     "prev": "14caca7f-72a2-4057-8267-d3f534741cc1",
     "regions": {
      "ef5fe10a-f315-4a3c-8c50-d3c0ee5a8fff": {
       "attrs": {
        "height": 0.8,
        "width": 0.8,
        "x": 0.1,
        "y": 0.1
       },
       "content": {
        "cell": "71cec23e-805f-4448-bcb7-0452fe8af05f",
        "part": "whole"
       },
       "id": "ef5fe10a-f315-4a3c-8c50-d3c0ee5a8fff"
      }
     }
    },
    "934826ac-77de-43de-a15e-4c19bc411a35": {
     "id": "934826ac-77de-43de-a15e-4c19bc411a35",
     "prev": "e395f8b5-d94d-4a25-9304-6df7342c01db",
     "regions": {
      "c653c340-22d9-46f5-96fa-501a7ec447a6": {
       "attrs": {
        "height": 0.8,
        "width": 0.8,
        "x": 0.1,
        "y": 0.1
       },
       "content": {
        "cell": "2b1ecef1-2ce3-425e-9bbc-05f876abc346",
        "part": "whole"
       },
       "id": "c653c340-22d9-46f5-96fa-501a7ec447a6"
      }
     }
    },
    "99baaf9a-2ee9-4327-bfcd-c5fce8d820d2": {
     "id": "99baaf9a-2ee9-4327-bfcd-c5fce8d820d2",
     "prev": "b730c0dc-ef07-43b8-91b3-204320977359",
     "regions": {
      "42764ab0-6cd7-4d75-9efb-13f7bb57c644": {
       "attrs": {
        "height": 0.8,
        "width": 0.8,
        "x": 0.1,
        "y": 0.1
       },
       "content": {
        "cell": "c2be4e6f-cc8e-49c1-8435-55cfb717ba7b",
        "part": "whole"
       },
       "id": "42764ab0-6cd7-4d75-9efb-13f7bb57c644"
      }
     }
    },
    "9e3f8e99-6a88-4f6b-aeba-da8cc51896a3": {
     "id": "9e3f8e99-6a88-4f6b-aeba-da8cc51896a3",
     "prev": "cf16db03-8bbe-447b-85bb-77bc06eaec3e",
     "regions": {
      "9558d82d-e51c-44f2-9132-25826dcaf8fb": {
       "attrs": {
        "height": 0.8,
        "width": 0.8,
        "x": 0.1,
        "y": 0.1
       },
       "content": {
        "cell": "88c3ef40-24f9-4d86-ac57-86bfd7e83f19",
        "part": "whole"
       },
       "id": "9558d82d-e51c-44f2-9132-25826dcaf8fb"
      }
     }
    },
    "a4f08922-ad51-4a57-82a8-7a005a7f021c": {
     "id": "a4f08922-ad51-4a57-82a8-7a005a7f021c",
     "prev": "42bb0b3b-fe94-4239-a8f6-3bcde09ac593",
     "regions": {
      "790cf60e-876c-45d8-aa79-5ce128cdc8aa": {
       "attrs": {
        "height": 0.8,
        "width": 0.8,
        "x": 0.1,
        "y": 0.1
       },
       "content": {
        "cell": "1d624b7a-ce48-4bae-bea2-dd1b7af5e856",
        "part": "whole"
       },
       "id": "790cf60e-876c-45d8-aa79-5ce128cdc8aa"
      }
     }
    },
    "a897de34-4a97-4148-84bc-667965330003": {
     "id": "a897de34-4a97-4148-84bc-667965330003",
     "prev": "934826ac-77de-43de-a15e-4c19bc411a35",
     "regions": {
      "777eab28-2dd4-4ed3-93ca-3fe23e26a847": {
       "attrs": {
        "height": 0.8,
        "width": 0.8,
        "x": 0.1,
        "y": 0.1
       },
       "content": {
        "cell": "5dcaa405-df48-4454-b5fc-ad1a1acf04d9",
        "part": "whole"
       },
       "id": "777eab28-2dd4-4ed3-93ca-3fe23e26a847"
      }
     }
    },
    "a989128c-0813-4b08-946c-7299f2f0978f": {
     "id": "a989128c-0813-4b08-946c-7299f2f0978f",
     "prev": "9279c91b-88d6-40fc-8a7c-15454de8b41f",
     "regions": {
      "28bda5ae-0c92-4980-944a-7399a980c171": {
       "attrs": {
        "height": 0.8,
        "width": 0.8,
        "x": 0.1,
        "y": 0.1
       },
       "content": {
        "cell": "005c8515-d1ac-4a0b-8628-33bf58e18188",
        "part": "whole"
       },
       "id": "28bda5ae-0c92-4980-944a-7399a980c171"
      }
     }
    },
    "a9ed9657-621d-46bf-9b11-04eadae708ae": {
     "id": "a9ed9657-621d-46bf-9b11-04eadae708ae",
     "prev": "1bd433e8-dd43-45c3-9bbe-bcc84ce6868a",
     "regions": {
      "5a3b3732-db59-4478-8890-1244cca0b16b": {
       "attrs": {
        "height": 0.8,
        "width": 0.8,
        "x": 0.1,
        "y": 0.1
       },
       "content": {
        "cell": "a273cd2a-df37-4e4c-a3c7-869fafc74879",
        "part": "whole"
       },
       "id": "5a3b3732-db59-4478-8890-1244cca0b16b"
      }
     }
    },
    "b1c6b287-4dc7-4b10-8d1f-c1af4e77ff81": {
     "id": "b1c6b287-4dc7-4b10-8d1f-c1af4e77ff81",
     "prev": "360ca969-1aa0-4d81-a934-5aac618adaf2",
     "regions": {
      "a26c6114-b32d-456e-9044-51411f1df435": {
       "attrs": {
        "height": 0.8,
        "width": 0.8,
        "x": 0.1,
        "y": 0.1
       },
       "content": {
        "cell": "018a1f74-7bdd-42ac-aab9-64ced2129701",
        "part": "whole"
       },
       "id": "a26c6114-b32d-456e-9044-51411f1df435"
      }
     }
    },
    "b34dfe8a-acff-4ac7-b8c4-a0c0da8c62a9": {
     "id": "b34dfe8a-acff-4ac7-b8c4-a0c0da8c62a9",
     "prev": "e404958f-7868-480f-b284-7f262a588178",
     "regions": {
      "cd959915-9247-42d8-90f6-d0b6d009dde7": {
       "attrs": {
        "height": 0.8,
        "width": 0.8,
        "x": 0.1,
        "y": 0.1
       },
       "content": {
        "cell": "a6f8f868-e75e-45e2-b2e2-39b08c804c00",
        "part": "whole"
       },
       "id": "cd959915-9247-42d8-90f6-d0b6d009dde7"
      }
     }
    },
    "b730c0dc-ef07-43b8-91b3-204320977359": {
     "id": "b730c0dc-ef07-43b8-91b3-204320977359",
     "prev": "1a8a0493-fdb5-4acd-b60f-8f7470535235",
     "regions": {
      "43a3c32d-7844-43e7-967a-d9d52f22a062": {
       "attrs": {
        "height": 0.8,
        "width": 0.8,
        "x": 0.1,
        "y": 0.1
       },
       "content": {
        "cell": "ed9a8a38-e431-4ade-a9bd-ef223f9bbc79",
        "part": "whole"
       },
       "id": "43a3c32d-7844-43e7-967a-d9d52f22a062"
      }
     }
    },
    "b750fe36-794f-42ae-8824-debf8940e0d9": {
     "id": "b750fe36-794f-42ae-8824-debf8940e0d9",
     "prev": "134ddeb8-5f0a-4d0c-9dc1-cdc2fc9e8c70",
     "regions": {
      "50bafde4-89aa-47ce-84de-a076b78da408": {
       "attrs": {
        "height": 0.8,
        "width": 0.8,
        "x": 0.1,
        "y": 0.1
       },
       "content": {
        "cell": "466c7253-fdce-4291-b56d-78ba8c999572",
        "part": "whole"
       },
       "id": "50bafde4-89aa-47ce-84de-a076b78da408"
      }
     }
    },
    "b7fe8b57-4648-4dd9-abbd-bf558c10dba2": {
     "id": "b7fe8b57-4648-4dd9-abbd-bf558c10dba2",
     "prev": "5b832f0b-1787-41d9-9820-1eabd7562080",
     "regions": {
      "b8c2f47c-5d41-4ded-b4a8-1623e362a259": {
       "attrs": {
        "height": 0.8,
        "width": 0.8,
        "x": 0.1,
        "y": 0.1
       },
       "content": {
        "cell": "6b057215-44b8-49cc-a5f7-0476d62aec15",
        "part": "whole"
       },
       "id": "b8c2f47c-5d41-4ded-b4a8-1623e362a259"
      }
     }
    },
    "b9eb51e4-1352-48af-bcbe-18728dda0635": {
     "id": "b9eb51e4-1352-48af-bcbe-18728dda0635",
     "prev": "7e3fb33a-d5f2-4ac5-96a7-0cfdbf3bbddf",
     "regions": {
      "97098a64-d6b2-41f3-abec-3ce7cdef7737": {
       "attrs": {
        "height": 0.8,
        "width": 0.8,
        "x": 0.1,
        "y": 0.1
       },
       "content": {
        "cell": "2c134474-46c2-4981-b103-faad7bb9027a",
        "part": "whole"
       },
       "id": "97098a64-d6b2-41f3-abec-3ce7cdef7737"
      }
     }
    },
    "bb95bcfb-1207-44c0-a50e-dea61457baa3": {
     "id": "bb95bcfb-1207-44c0-a50e-dea61457baa3",
     "prev": "4eeabe15-26ab-4871-b710-38e1e6f5dbbe",
     "regions": {
      "e64a5962-8267-4f7e-9c0e-44a655d691f0": {
       "attrs": {
        "height": 0.8,
        "width": 0.8,
        "x": 0.1,
        "y": 0.1
       },
       "content": {
        "cell": "99a883f8-450a-4ac8-b13f-d855a2f60060",
        "part": "whole"
       },
       "id": "e64a5962-8267-4f7e-9c0e-44a655d691f0"
      }
     }
    },
    "bd5e9955-7020-48e8-b949-f12ef0d60b02": {
     "id": "bd5e9955-7020-48e8-b949-f12ef0d60b02",
     "prev": "92188a99-e9bc-415d-9f96-76542c660c03",
     "regions": {
      "7bb18505-ca8c-4512-9356-f9f6ef2b5db2": {
       "attrs": {
        "height": 0.8,
        "width": 0.8,
        "x": 0.1,
        "y": 0.1
       },
       "content": {
        "cell": "0189ce84-004b-411e-ac2e-b0c34bbda502",
        "part": "whole"
       },
       "id": "7bb18505-ca8c-4512-9356-f9f6ef2b5db2"
      }
     }
    },
    "c9abcb74-986b-4e0b-a533-d12701cb2e48": {
     "id": "c9abcb74-986b-4e0b-a533-d12701cb2e48",
     "prev": "3ce160a3-8fcf-4f33-b41c-d78854b8cc01",
     "regions": {
      "462f4570-07aa-45d9-b020-9de5f4d0ad67": {
       "attrs": {
        "height": 0.8,
        "width": 0.8,
        "x": 0.1,
        "y": 0.1
       },
       "content": {
        "cell": "a1736076-deb8-405f-9f73-e60ba705c707",
        "part": "whole"
       },
       "id": "462f4570-07aa-45d9-b020-9de5f4d0ad67"
      }
     }
    },
    "cf16db03-8bbe-447b-85bb-77bc06eaec3e": {
     "id": "cf16db03-8bbe-447b-85bb-77bc06eaec3e",
     "prev": "1dd78cf4-3c7a-4392-ab7c-caec8aee9da0",
     "regions": {
      "f77826ab-f270-4c27-8535-94b7761cf579": {
       "attrs": {
        "height": 0.8,
        "width": 0.8,
        "x": 0.1,
        "y": 0.1
       },
       "content": {
        "cell": "ca5276c1-d096-4a7a-aa36-097642e6744a",
        "part": "whole"
       },
       "id": "f77826ab-f270-4c27-8535-94b7761cf579"
      }
     }
    },
    "cf78021e-d241-4a8e-8525-0f2e594d30e6": {
     "id": "cf78021e-d241-4a8e-8525-0f2e594d30e6",
     "prev": "db41b468-c9db-44a3-ab24-ef106188275c",
     "regions": {
      "2e39ba6f-b536-4958-8005-9e7266117af5": {
       "attrs": {
        "height": 0.8,
        "width": 0.8,
        "x": 0.1,
        "y": 0.1
       },
       "content": {
        "cell": "74bbe167-5b9c-473d-88ff-c472e029b573",
        "part": "whole"
       },
       "id": "2e39ba6f-b536-4958-8005-9e7266117af5"
      }
     }
    },
    "d895cc19-959e-4ba0-938e-c1af560c1b44": {
     "id": "d895cc19-959e-4ba0-938e-c1af560c1b44",
     "prev": "55ad18d2-9f6a-45f5-9c78-fdc16bd067c1",
     "regions": {
      "3a2fe8e4-5075-4925-b27f-e5a24e06007c": {
       "attrs": {
        "height": 0.8,
        "width": 0.8,
        "x": 0.1,
        "y": 0.1
       },
       "content": {
        "cell": "fd977ef0-4692-40d9-80d9-224c53aa9a68",
        "part": "whole"
       },
       "id": "3a2fe8e4-5075-4925-b27f-e5a24e06007c"
      }
     }
    },
    "d9640e44-95af-4219-b9fa-b402cf733d27": {
     "id": "d9640e44-95af-4219-b9fa-b402cf733d27",
     "prev": "a897de34-4a97-4148-84bc-667965330003",
     "regions": {
      "735053b5-903a-4b6c-b8b5-cee00c43c209": {
       "attrs": {
        "height": 0.8,
        "width": 0.8,
        "x": 0.1,
        "y": 0.1
       },
       "content": {
        "cell": "e9f2675c-5293-4542-95f6-d2909959136e",
        "part": "whole"
       },
       "id": "735053b5-903a-4b6c-b8b5-cee00c43c209"
      }
     }
    },
    "da3bf63d-9950-45af-ad37-1a138d099044": {
     "id": "da3bf63d-9950-45af-ad37-1a138d099044",
     "prev": "d9640e44-95af-4219-b9fa-b402cf733d27",
     "regions": {
      "48f3cddf-6998-4407-b331-0c7ba4facc91": {
       "attrs": {
        "height": 0.8,
        "width": 0.8,
        "x": 0.1,
        "y": 0.1
       },
       "content": {
        "cell": "09cae014-2e2a-4e30-98f2-b60aaceca7ef",
        "part": "whole"
       },
       "id": "48f3cddf-6998-4407-b331-0c7ba4facc91"
      }
     }
    },
    "da74431d-1e09-496f-bdcd-f69d295e446d": {
     "id": "da74431d-1e09-496f-bdcd-f69d295e446d",
     "prev": "ed27a064-7e9a-4749-bf3f-1a7c080ddd06",
     "regions": {
      "785539c8-f935-4036-8d84-ab679417f94f": {
       "attrs": {
        "height": 0.8,
        "width": 0.8,
        "x": 0.1,
        "y": 0.1
       },
       "content": {
        "cell": "6257403a-5676-4b6c-8da8-6f1724c4b86a",
        "part": "whole"
       },
       "id": "785539c8-f935-4036-8d84-ab679417f94f"
      }
     }
    },
    "db41b468-c9db-44a3-ab24-ef106188275c": {
     "id": "db41b468-c9db-44a3-ab24-ef106188275c",
     "prev": "207c21d8-4d55-42c0-9adf-e6a033dd4d30",
     "regions": {
      "05d3bac0-b33b-4949-8958-cf7dfbdc1ae6": {
       "attrs": {
        "height": 0.8,
        "width": 0.8,
        "x": 0.1,
        "y": 0.1
       },
       "content": {
        "cell": "4822336e-fe27-453c-99cc-d2ca798decbb",
        "part": "whole"
       },
       "id": "05d3bac0-b33b-4949-8958-cf7dfbdc1ae6"
      }
     }
    },
    "dcc4441d-2f74-4803-8b11-1b753da077b6": {
     "id": "dcc4441d-2f74-4803-8b11-1b753da077b6",
     "prev": "a4f08922-ad51-4a57-82a8-7a005a7f021c",
     "regions": {
      "4962f469-d4d4-4841-890d-b752678e7752": {
       "attrs": {
        "height": 0.8,
        "width": 0.8,
        "x": 0.1,
        "y": 0.1
       },
       "content": {
        "cell": "bbf5b8b3-6776-41a3-b21d-9b7b7be48799",
        "part": "whole"
       },
       "id": "4962f469-d4d4-4841-890d-b752678e7752"
      }
     }
    },
    "dccd1d53-f7df-4f63-bc86-88e945ab4ca4": {
     "id": "dccd1d53-f7df-4f63-bc86-88e945ab4ca4",
     "prev": "797550dd-2010-4611-a33b-429d88873bae",
     "regions": {
      "31fc0804-7ec4-4ab4-9fbd-0b2644ad73ea": {
       "attrs": {
        "height": 0.8,
        "width": 0.8,
        "x": 0.1,
        "y": 0.1
       },
       "content": {
        "cell": "a535feff-c451-4b1b-a0b3-2e35d8dfaf87",
        "part": "whole"
       },
       "id": "31fc0804-7ec4-4ab4-9fbd-0b2644ad73ea"
      }
     }
    },
    "dd70aaa5-ef68-4a80-a8ac-e4e54e38638a": {
     "id": "dd70aaa5-ef68-4a80-a8ac-e4e54e38638a",
     "prev": "73a4747f-b61d-4178-93d0-14999a6a824c",
     "regions": {
      "b53cafcb-b84e-4945-8964-2cf3f5400e85": {
       "attrs": {
        "height": 0.8,
        "width": 0.8,
        "x": 0.1,
        "y": 0.1
       },
       "content": {
        "cell": "852529e2-de8b-4530-93b2-3c71c24172e2",
        "part": "whole"
       },
       "id": "b53cafcb-b84e-4945-8964-2cf3f5400e85"
      }
     }
    },
    "e395f8b5-d94d-4a25-9304-6df7342c01db": {
     "id": "e395f8b5-d94d-4a25-9304-6df7342c01db",
     "prev": "e537ef45-914e-411b-9d6d-b547233b5eec",
     "regions": {
      "edc7064e-971e-4e17-adac-8e33086425b3": {
       "attrs": {
        "height": 0.8,
        "width": 0.8,
        "x": 0.1,
        "y": 0.1
       },
       "content": {
        "cell": "f73a55e3-b5b7-42d3-9918-84c567a0d419",
        "part": "whole"
       },
       "id": "edc7064e-971e-4e17-adac-8e33086425b3"
      }
     }
    },
    "e404958f-7868-480f-b284-7f262a588178": {
     "id": "e404958f-7868-480f-b284-7f262a588178",
     "prev": "0775fd59-ae89-470e-b4e0-ae68228a1ad7",
     "regions": {
      "c3729b50-c5f0-4758-9b1c-3046089ed34d": {
       "attrs": {
        "height": 0.8,
        "width": 0.8,
        "x": 0.1,
        "y": 0.1
       },
       "content": {
        "cell": "4c4ca22a-3407-40ae-a38f-c6c6bb08f53d",
        "part": "whole"
       },
       "id": "c3729b50-c5f0-4758-9b1c-3046089ed34d"
      }
     }
    },
    "e537ef45-914e-411b-9d6d-b547233b5eec": {
     "id": "e537ef45-914e-411b-9d6d-b547233b5eec",
     "prev": "91da2a5f-783d-4184-bb93-620bd7ff7f9b",
     "regions": {
      "cbaf035e-9c40-4b99-804d-ae936c343db5": {
       "attrs": {
        "height": 0.8,
        "width": 0.8,
        "x": 0.1,
        "y": 0.1
       },
       "content": {
        "cell": "af507767-15a8-429b-a79d-123073d7d7a3",
        "part": "whole"
       },
       "id": "cbaf035e-9c40-4b99-804d-ae936c343db5"
      }
     }
    },
    "e8f30b96-aa38-455d-9c10-b4f1ef71dbca": {
     "id": "e8f30b96-aa38-455d-9c10-b4f1ef71dbca",
     "prev": "b9eb51e4-1352-48af-bcbe-18728dda0635",
     "regions": {
      "1922b110-4f50-4aec-8ba0-1be1e9d494d0": {
       "attrs": {
        "height": 0.8,
        "width": 0.8,
        "x": 0.1,
        "y": 0.1
       },
       "content": {
        "cell": "804a8d3c-74e3-4935-abcc-27b6fbb4987e",
        "part": "whole"
       },
       "id": "1922b110-4f50-4aec-8ba0-1be1e9d494d0"
      }
     }
    },
    "e95329ec-d2bd-413c-8415-797de59e433f": {
     "id": "e95329ec-d2bd-413c-8415-797de59e433f",
     "prev": "d895cc19-959e-4ba0-938e-c1af560c1b44",
     "regions": {
      "ddaff93d-6edd-445a-8fcb-d69f090f6db8": {
       "attrs": {
        "height": 0.8,
        "width": 0.8,
        "x": 0.1,
        "y": 0.1
       },
       "content": {
        "cell": "083b23dc-4bcc-48f3-9db2-852d391e5e34",
        "part": "whole"
       },
       "id": "ddaff93d-6edd-445a-8fcb-d69f090f6db8"
      }
     }
    },
    "ec90e085-81ea-4072-8c9b-a6c8cbdb30b6": {
     "id": "ec90e085-81ea-4072-8c9b-a6c8cbdb30b6",
     "prev": "75d4d19e-5a7f-4071-ada6-68358db5d1a0",
     "regions": {
      "7f8912a6-ade6-4394-b6a1-c6a277430b42": {
       "attrs": {
        "height": 0.8,
        "width": 0.8,
        "x": 0.1,
        "y": 0.1
       },
       "content": {
        "cell": "a7275146-27f6-4284-9d38-6fc4b9346ca5",
        "part": "whole"
       },
       "id": "7f8912a6-ade6-4394-b6a1-c6a277430b42"
      }
     }
    },
    "ed27a064-7e9a-4749-bf3f-1a7c080ddd06": {
     "id": "ed27a064-7e9a-4749-bf3f-1a7c080ddd06",
     "prev": "b34dfe8a-acff-4ac7-b8c4-a0c0da8c62a9",
     "regions": {
      "36fdf292-b4f2-4d76-a6b4-99a5dd2b4c20": {
       "attrs": {
        "height": 0.8,
        "width": 0.8,
        "x": 0.1,
        "y": 0.1
       },
       "content": {
        "cell": "08e94f1e-eba6-4d4e-a7ca-71de9199f4dd",
        "part": "whole"
       },
       "id": "36fdf292-b4f2-4d76-a6b4-99a5dd2b4c20"
      }
     }
    },
    "ee45d25f-a565-4f85-b7ce-bc7f06227eb2": {
     "id": "ee45d25f-a565-4f85-b7ce-bc7f06227eb2",
     "prev": "205a729d-ace0-40f4-b604-cbae09603341",
     "regions": {
      "0b7694f7-96f9-44eb-b5e9-9e617e4f1f1d": {
       "attrs": {
        "height": 0.8,
        "width": 0.8,
        "x": 0.1,
        "y": 0.1
       },
       "content": {
        "cell": "20a51dd0-7377-4b7d-b9e5-21f9cb11a7d9",
        "part": "whole"
       },
       "id": "0b7694f7-96f9-44eb-b5e9-9e617e4f1f1d"
      }
     }
    },
    "ee6f88b1-d488-4c1c-a9a7-0d1596e359d0": {
     "id": "ee6f88b1-d488-4c1c-a9a7-0d1596e359d0",
     "prev": "a989128c-0813-4b08-946c-7299f2f0978f",
     "regions": {
      "0f87de3b-49d6-499c-a8c4-18432691bcc0": {
       "attrs": {
        "height": 0.8,
        "width": 0.8,
        "x": 0.1,
        "y": 0.1
       },
       "content": {
        "cell": "a88c2ae2-18db-4dab-b09d-2220dce13e2a",
        "part": "whole"
       },
       "id": "0f87de3b-49d6-499c-a8c4-18432691bcc0"
      }
     }
    },
    "f0110d30-03cb-486c-bc6c-dee5fddc932b": {
     "id": "f0110d30-03cb-486c-bc6c-dee5fddc932b",
     "prev": "73ff332e-fa31-4dc9-857f-dcd06e51e732",
     "regions": {
      "78028044-0b6d-42b2-8690-c435a205df4d": {
       "attrs": {
        "height": 0.8,
        "width": 0.8,
        "x": 0.1,
        "y": 0.1
       },
       "content": {
        "cell": "314d6bee-9a82-4008-a034-9f037c698087",
        "part": "whole"
       },
       "id": "78028044-0b6d-42b2-8690-c435a205df4d"
      }
     }
    },
    "f551e9f7-707c-4c8d-b941-878e3bfd2daa": {
     "id": "f551e9f7-707c-4c8d-b941-878e3bfd2daa",
     "prev": "0aaed989-5ac1-4c3a-a851-8d51bc5bc596",
     "regions": {
      "52faeb5e-855c-4659-904c-0dafa5c63e8c": {
       "attrs": {
        "height": 0.8,
        "width": 0.8,
        "x": 0.1,
        "y": 0.1
       },
       "content": {
        "cell": "d2b45c5a-ec64-456a-9ba7-f748b62d8b69",
        "part": "whole"
       },
       "id": "52faeb5e-855c-4659-904c-0dafa5c63e8c"
      }
     }
    },
    "f5623253-bba8-4292-a591-94f05dc68411": {
     "id": "f5623253-bba8-4292-a591-94f05dc68411",
     "prev": "833b0b62-eefd-4390-9c0d-3e860e657ee6",
     "regions": {
      "5b06a1bb-1155-4b69-8e03-44606bbd7d1a": {
       "attrs": {
        "height": 0.8,
        "width": 0.8,
        "x": 0.1,
        "y": 0.1
       },
       "content": {
        "cell": "1e88900d-4039-4a4e-a1e8-92737ed082fd",
        "part": "whole"
       },
       "id": "5b06a1bb-1155-4b69-8e03-44606bbd7d1a"
      }
     }
    },
    "f9a50efe-e3b7-4747-8f8a-4c694514fbc1": {
     "id": "f9a50efe-e3b7-4747-8f8a-4c694514fbc1",
     "prev": "e95329ec-d2bd-413c-8415-797de59e433f",
     "regions": {
      "ab9d4c28-aac8-4ac9-828e-c26b9ac9c2a4": {
       "attrs": {
        "height": 0.8,
        "width": 0.8,
        "x": 0.1,
        "y": 0.1
       },
       "content": {
        "cell": "243761ae-6207-4ccd-806d-229fecfcbbcf",
        "part": "whole"
       },
       "id": "ab9d4c28-aac8-4ac9-828e-c26b9ac9c2a4"
      }
     }
    },
    "fa17b069-c1c7-4741-b54a-4ea9df7bdb2a": {
     "id": "fa17b069-c1c7-4741-b54a-4ea9df7bdb2a",
     "prev": "24528376-6c48-4d57-8475-806dabcdb97c",
     "regions": {
      "19a97c68-4405-412a-a243-49cb4d5bceb0": {
       "attrs": {
        "height": 0.8,
        "width": 0.8,
        "x": 0.1,
        "y": 0.1
       },
       "content": {
        "cell": "037adffb-e1d9-4649-ae56-ca6e30a30381",
        "part": "whole"
       },
       "id": "19a97c68-4405-412a-a243-49cb4d5bceb0"
      }
     }
    }
   },
   "themes": {}
  }
 },
 "nbformat": 4,
 "nbformat_minor": 1
}
